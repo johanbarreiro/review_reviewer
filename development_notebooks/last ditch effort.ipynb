{
 "cells": [
  {
   "cell_type": "code",
   "execution_count": 7,
   "metadata": {},
   "outputs": [],
   "source": [
    "import pandas as pd\n",
    "import numpy as np\n",
    "import matplotlib.pyplot as plt\n",
    "import torch\n",
    "from transformers import LlamaForCausalLM, LlamaTokenizer, pipeline\n",
    "from tqdm.auto import tqdm\n",
    "import json\n",
    "import os\n",
    "from huggingface_hub import login\n",
    "from joblib import Parallel, delayed\n",
    "import multiprocessing\n"
   ]
  },
  {
   "cell_type": "code",
   "execution_count": 8,
   "metadata": {},
   "outputs": [],
   "source": [
    "data_cleaned = pd.read_csv('df1.csv')"
   ]
  },
  {
   "cell_type": "code",
   "execution_count": 9,
   "metadata": {},
   "outputs": [],
   "source": [
    "data_cleaned['clean_text'] = data_cleaned['clean_text'].astype(str) "
   ]
  },
  {
   "cell_type": "code",
   "execution_count": 10,
   "metadata": {},
   "outputs": [],
   "source": [
    "data_cleaned['review_full'] = data_cleaned['review_full'].astype(str) "
   ]
  },
  {
   "cell_type": "code",
   "execution_count": null,
   "metadata": {},
   "outputs": [],
   "source": []
  },
  {
   "cell_type": "code",
   "execution_count": 11,
   "metadata": {},
   "outputs": [
    {
     "name": "stderr",
     "output_type": "stream",
     "text": [
      "Some weights of the model checkpoint at roberta-large-mnli were not used when initializing RobertaForSequenceClassification: ['roberta.pooler.dense.bias', 'roberta.pooler.dense.weight']\n",
      "- This IS expected if you are initializing RobertaForSequenceClassification from the checkpoint of a model trained on another task or with another architecture (e.g. initializing a BertForSequenceClassification model from a BertForPreTraining model).\n",
      "- This IS NOT expected if you are initializing RobertaForSequenceClassification from the checkpoint of a model that you expect to be exactly identical (initializing a BertForSequenceClassification model from a BertForSequenceClassification model).\n",
      "100%|██████████| 1000/1000 [09:00<00:00,  1.85it/s]\n",
      "/var/folders/9k/rnh189dj1_95w5p98sc88vbh0000gn/T/ipykernel_58829/3893720917.py:47: SettingWithCopyWarning: \n",
      "A value is trying to be set on a copy of a slice from a DataFrame.\n",
      "Try using .loc[row_indexer,col_indexer] = value instead\n",
      "\n",
      "See the caveats in the documentation: https://pandas.pydata.org/pandas-docs/stable/user_guide/indexing.html#returning-a-view-versus-a-copy\n",
      "  chunk['predicted_label'] = parallel_classify_texts(chunk['review_full'], num_threads)\n",
      "/var/folders/9k/rnh189dj1_95w5p98sc88vbh0000gn/T/ipykernel_58829/3893720917.py:60: SettingWithCopyWarning: \n",
      "A value is trying to be set on a copy of a slice from a DataFrame.\n",
      "Try using .loc[row_indexer,col_indexer] = value instead\n",
      "\n",
      "See the caveats in the documentation: https://pandas.pydata.org/pandas-docs/stable/user_guide/indexing.html#returning-a-view-versus-a-copy\n",
      "  chunk['predicted_rating'] = chunk['predicted_label'].apply(convert_label_to_rating)\n"
     ]
    },
    {
     "name": "stdout",
     "output_type": "stream",
     "text": [
      "Saved chunk 0 to CSV.\n"
     ]
    },
    {
     "name": "stderr",
     "output_type": "stream",
     "text": [
      "100%|██████████| 1000/1000 [08:47<00:00,  1.90it/s]\n",
      "/var/folders/9k/rnh189dj1_95w5p98sc88vbh0000gn/T/ipykernel_58829/3893720917.py:47: SettingWithCopyWarning: \n",
      "A value is trying to be set on a copy of a slice from a DataFrame.\n",
      "Try using .loc[row_indexer,col_indexer] = value instead\n",
      "\n",
      "See the caveats in the documentation: https://pandas.pydata.org/pandas-docs/stable/user_guide/indexing.html#returning-a-view-versus-a-copy\n",
      "  chunk['predicted_label'] = parallel_classify_texts(chunk['review_full'], num_threads)\n",
      "/var/folders/9k/rnh189dj1_95w5p98sc88vbh0000gn/T/ipykernel_58829/3893720917.py:60: SettingWithCopyWarning: \n",
      "A value is trying to be set on a copy of a slice from a DataFrame.\n",
      "Try using .loc[row_indexer,col_indexer] = value instead\n",
      "\n",
      "See the caveats in the documentation: https://pandas.pydata.org/pandas-docs/stable/user_guide/indexing.html#returning-a-view-versus-a-copy\n",
      "  chunk['predicted_rating'] = chunk['predicted_label'].apply(convert_label_to_rating)\n"
     ]
    },
    {
     "name": "stdout",
     "output_type": "stream",
     "text": [
      "Saved chunk 1 to CSV.\n"
     ]
    },
    {
     "name": "stderr",
     "output_type": "stream",
     "text": [
      "100%|██████████| 1000/1000 [08:36<00:00,  1.94it/s]\n",
      "/var/folders/9k/rnh189dj1_95w5p98sc88vbh0000gn/T/ipykernel_58829/3893720917.py:47: SettingWithCopyWarning: \n",
      "A value is trying to be set on a copy of a slice from a DataFrame.\n",
      "Try using .loc[row_indexer,col_indexer] = value instead\n",
      "\n",
      "See the caveats in the documentation: https://pandas.pydata.org/pandas-docs/stable/user_guide/indexing.html#returning-a-view-versus-a-copy\n",
      "  chunk['predicted_label'] = parallel_classify_texts(chunk['review_full'], num_threads)\n",
      "/var/folders/9k/rnh189dj1_95w5p98sc88vbh0000gn/T/ipykernel_58829/3893720917.py:60: SettingWithCopyWarning: \n",
      "A value is trying to be set on a copy of a slice from a DataFrame.\n",
      "Try using .loc[row_indexer,col_indexer] = value instead\n",
      "\n",
      "See the caveats in the documentation: https://pandas.pydata.org/pandas-docs/stable/user_guide/indexing.html#returning-a-view-versus-a-copy\n",
      "  chunk['predicted_rating'] = chunk['predicted_label'].apply(convert_label_to_rating)\n"
     ]
    },
    {
     "name": "stdout",
     "output_type": "stream",
     "text": [
      "Saved chunk 2 to CSV.\n"
     ]
    },
    {
     "name": "stderr",
     "output_type": "stream",
     "text": [
      "100%|██████████| 1000/1000 [08:09<00:00,  2.04it/s]\n",
      "/var/folders/9k/rnh189dj1_95w5p98sc88vbh0000gn/T/ipykernel_58829/3893720917.py:47: SettingWithCopyWarning: \n",
      "A value is trying to be set on a copy of a slice from a DataFrame.\n",
      "Try using .loc[row_indexer,col_indexer] = value instead\n",
      "\n",
      "See the caveats in the documentation: https://pandas.pydata.org/pandas-docs/stable/user_guide/indexing.html#returning-a-view-versus-a-copy\n",
      "  chunk['predicted_label'] = parallel_classify_texts(chunk['review_full'], num_threads)\n",
      "/var/folders/9k/rnh189dj1_95w5p98sc88vbh0000gn/T/ipykernel_58829/3893720917.py:60: SettingWithCopyWarning: \n",
      "A value is trying to be set on a copy of a slice from a DataFrame.\n",
      "Try using .loc[row_indexer,col_indexer] = value instead\n",
      "\n",
      "See the caveats in the documentation: https://pandas.pydata.org/pandas-docs/stable/user_guide/indexing.html#returning-a-view-versus-a-copy\n",
      "  chunk['predicted_rating'] = chunk['predicted_label'].apply(convert_label_to_rating)\n"
     ]
    },
    {
     "name": "stdout",
     "output_type": "stream",
     "text": [
      "Saved chunk 3 to CSV.\n"
     ]
    },
    {
     "name": "stderr",
     "output_type": "stream",
     "text": [
      "100%|██████████| 1000/1000 [07:53<00:00,  2.11it/s]\n",
      "/var/folders/9k/rnh189dj1_95w5p98sc88vbh0000gn/T/ipykernel_58829/3893720917.py:47: SettingWithCopyWarning: \n",
      "A value is trying to be set on a copy of a slice from a DataFrame.\n",
      "Try using .loc[row_indexer,col_indexer] = value instead\n",
      "\n",
      "See the caveats in the documentation: https://pandas.pydata.org/pandas-docs/stable/user_guide/indexing.html#returning-a-view-versus-a-copy\n",
      "  chunk['predicted_label'] = parallel_classify_texts(chunk['review_full'], num_threads)\n",
      "/var/folders/9k/rnh189dj1_95w5p98sc88vbh0000gn/T/ipykernel_58829/3893720917.py:60: SettingWithCopyWarning: \n",
      "A value is trying to be set on a copy of a slice from a DataFrame.\n",
      "Try using .loc[row_indexer,col_indexer] = value instead\n",
      "\n",
      "See the caveats in the documentation: https://pandas.pydata.org/pandas-docs/stable/user_guide/indexing.html#returning-a-view-versus-a-copy\n",
      "  chunk['predicted_rating'] = chunk['predicted_label'].apply(convert_label_to_rating)\n"
     ]
    },
    {
     "name": "stdout",
     "output_type": "stream",
     "text": [
      "Saved chunk 4 to CSV.\n"
     ]
    },
    {
     "name": "stderr",
     "output_type": "stream",
     "text": [
      "100%|██████████| 1000/1000 [07:42<00:00,  2.16it/s]\n",
      "/var/folders/9k/rnh189dj1_95w5p98sc88vbh0000gn/T/ipykernel_58829/3893720917.py:47: SettingWithCopyWarning: \n",
      "A value is trying to be set on a copy of a slice from a DataFrame.\n",
      "Try using .loc[row_indexer,col_indexer] = value instead\n",
      "\n",
      "See the caveats in the documentation: https://pandas.pydata.org/pandas-docs/stable/user_guide/indexing.html#returning-a-view-versus-a-copy\n",
      "  chunk['predicted_label'] = parallel_classify_texts(chunk['review_full'], num_threads)\n",
      "/var/folders/9k/rnh189dj1_95w5p98sc88vbh0000gn/T/ipykernel_58829/3893720917.py:60: SettingWithCopyWarning: \n",
      "A value is trying to be set on a copy of a slice from a DataFrame.\n",
      "Try using .loc[row_indexer,col_indexer] = value instead\n",
      "\n",
      "See the caveats in the documentation: https://pandas.pydata.org/pandas-docs/stable/user_guide/indexing.html#returning-a-view-versus-a-copy\n",
      "  chunk['predicted_rating'] = chunk['predicted_label'].apply(convert_label_to_rating)\n"
     ]
    },
    {
     "name": "stdout",
     "output_type": "stream",
     "text": [
      "Saved chunk 5 to CSV.\n"
     ]
    },
    {
     "name": "stderr",
     "output_type": "stream",
     "text": [
      "100%|██████████| 1000/1000 [07:52<00:00,  2.12it/s]\n",
      "/var/folders/9k/rnh189dj1_95w5p98sc88vbh0000gn/T/ipykernel_58829/3893720917.py:47: SettingWithCopyWarning: \n",
      "A value is trying to be set on a copy of a slice from a DataFrame.\n",
      "Try using .loc[row_indexer,col_indexer] = value instead\n",
      "\n",
      "See the caveats in the documentation: https://pandas.pydata.org/pandas-docs/stable/user_guide/indexing.html#returning-a-view-versus-a-copy\n",
      "  chunk['predicted_label'] = parallel_classify_texts(chunk['review_full'], num_threads)\n",
      "/var/folders/9k/rnh189dj1_95w5p98sc88vbh0000gn/T/ipykernel_58829/3893720917.py:60: SettingWithCopyWarning: \n",
      "A value is trying to be set on a copy of a slice from a DataFrame.\n",
      "Try using .loc[row_indexer,col_indexer] = value instead\n",
      "\n",
      "See the caveats in the documentation: https://pandas.pydata.org/pandas-docs/stable/user_guide/indexing.html#returning-a-view-versus-a-copy\n",
      "  chunk['predicted_rating'] = chunk['predicted_label'].apply(convert_label_to_rating)\n"
     ]
    },
    {
     "name": "stdout",
     "output_type": "stream",
     "text": [
      "Saved chunk 6 to CSV.\n"
     ]
    },
    {
     "name": "stderr",
     "output_type": "stream",
     "text": [
      "100%|██████████| 1000/1000 [08:08<00:00,  2.05it/s]\n",
      "/var/folders/9k/rnh189dj1_95w5p98sc88vbh0000gn/T/ipykernel_58829/3893720917.py:47: SettingWithCopyWarning: \n",
      "A value is trying to be set on a copy of a slice from a DataFrame.\n",
      "Try using .loc[row_indexer,col_indexer] = value instead\n",
      "\n",
      "See the caveats in the documentation: https://pandas.pydata.org/pandas-docs/stable/user_guide/indexing.html#returning-a-view-versus-a-copy\n",
      "  chunk['predicted_label'] = parallel_classify_texts(chunk['review_full'], num_threads)\n",
      "/var/folders/9k/rnh189dj1_95w5p98sc88vbh0000gn/T/ipykernel_58829/3893720917.py:60: SettingWithCopyWarning: \n",
      "A value is trying to be set on a copy of a slice from a DataFrame.\n",
      "Try using .loc[row_indexer,col_indexer] = value instead\n",
      "\n",
      "See the caveats in the documentation: https://pandas.pydata.org/pandas-docs/stable/user_guide/indexing.html#returning-a-view-versus-a-copy\n",
      "  chunk['predicted_rating'] = chunk['predicted_label'].apply(convert_label_to_rating)\n"
     ]
    },
    {
     "name": "stdout",
     "output_type": "stream",
     "text": [
      "Saved chunk 7 to CSV.\n"
     ]
    },
    {
     "name": "stderr",
     "output_type": "stream",
     "text": [
      "100%|██████████| 1000/1000 [08:00<00:00,  2.08it/s]\n",
      "/var/folders/9k/rnh189dj1_95w5p98sc88vbh0000gn/T/ipykernel_58829/3893720917.py:47: SettingWithCopyWarning: \n",
      "A value is trying to be set on a copy of a slice from a DataFrame.\n",
      "Try using .loc[row_indexer,col_indexer] = value instead\n",
      "\n",
      "See the caveats in the documentation: https://pandas.pydata.org/pandas-docs/stable/user_guide/indexing.html#returning-a-view-versus-a-copy\n",
      "  chunk['predicted_label'] = parallel_classify_texts(chunk['review_full'], num_threads)\n",
      "/var/folders/9k/rnh189dj1_95w5p98sc88vbh0000gn/T/ipykernel_58829/3893720917.py:60: SettingWithCopyWarning: \n",
      "A value is trying to be set on a copy of a slice from a DataFrame.\n",
      "Try using .loc[row_indexer,col_indexer] = value instead\n",
      "\n",
      "See the caveats in the documentation: https://pandas.pydata.org/pandas-docs/stable/user_guide/indexing.html#returning-a-view-versus-a-copy\n",
      "  chunk['predicted_rating'] = chunk['predicted_label'].apply(convert_label_to_rating)\n"
     ]
    },
    {
     "name": "stdout",
     "output_type": "stream",
     "text": [
      "Saved chunk 8 to CSV.\n"
     ]
    },
    {
     "name": "stderr",
     "output_type": "stream",
     "text": [
      "100%|██████████| 1000/1000 [08:50<00:00,  1.89it/s]\n",
      "/var/folders/9k/rnh189dj1_95w5p98sc88vbh0000gn/T/ipykernel_58829/3893720917.py:47: SettingWithCopyWarning: \n",
      "A value is trying to be set on a copy of a slice from a DataFrame.\n",
      "Try using .loc[row_indexer,col_indexer] = value instead\n",
      "\n",
      "See the caveats in the documentation: https://pandas.pydata.org/pandas-docs/stable/user_guide/indexing.html#returning-a-view-versus-a-copy\n",
      "  chunk['predicted_label'] = parallel_classify_texts(chunk['review_full'], num_threads)\n",
      "/var/folders/9k/rnh189dj1_95w5p98sc88vbh0000gn/T/ipykernel_58829/3893720917.py:60: SettingWithCopyWarning: \n",
      "A value is trying to be set on a copy of a slice from a DataFrame.\n",
      "Try using .loc[row_indexer,col_indexer] = value instead\n",
      "\n",
      "See the caveats in the documentation: https://pandas.pydata.org/pandas-docs/stable/user_guide/indexing.html#returning-a-view-versus-a-copy\n",
      "  chunk['predicted_rating'] = chunk['predicted_label'].apply(convert_label_to_rating)\n"
     ]
    },
    {
     "name": "stdout",
     "output_type": "stream",
     "text": [
      "Saved chunk 9 to CSV.\n"
     ]
    },
    {
     "name": "stderr",
     "output_type": "stream",
     "text": [
      "100%|██████████| 1000/1000 [08:26<00:00,  1.97it/s]\n",
      "/var/folders/9k/rnh189dj1_95w5p98sc88vbh0000gn/T/ipykernel_58829/3893720917.py:47: SettingWithCopyWarning: \n",
      "A value is trying to be set on a copy of a slice from a DataFrame.\n",
      "Try using .loc[row_indexer,col_indexer] = value instead\n",
      "\n",
      "See the caveats in the documentation: https://pandas.pydata.org/pandas-docs/stable/user_guide/indexing.html#returning-a-view-versus-a-copy\n",
      "  chunk['predicted_label'] = parallel_classify_texts(chunk['review_full'], num_threads)\n",
      "/var/folders/9k/rnh189dj1_95w5p98sc88vbh0000gn/T/ipykernel_58829/3893720917.py:60: SettingWithCopyWarning: \n",
      "A value is trying to be set on a copy of a slice from a DataFrame.\n",
      "Try using .loc[row_indexer,col_indexer] = value instead\n",
      "\n",
      "See the caveats in the documentation: https://pandas.pydata.org/pandas-docs/stable/user_guide/indexing.html#returning-a-view-versus-a-copy\n",
      "  chunk['predicted_rating'] = chunk['predicted_label'].apply(convert_label_to_rating)\n"
     ]
    },
    {
     "name": "stdout",
     "output_type": "stream",
     "text": [
      "Saved chunk 10 to CSV.\n"
     ]
    },
    {
     "name": "stderr",
     "output_type": "stream",
     "text": [
      "100%|██████████| 1000/1000 [08:15<00:00,  2.02it/s]\n",
      "/var/folders/9k/rnh189dj1_95w5p98sc88vbh0000gn/T/ipykernel_58829/3893720917.py:47: SettingWithCopyWarning: \n",
      "A value is trying to be set on a copy of a slice from a DataFrame.\n",
      "Try using .loc[row_indexer,col_indexer] = value instead\n",
      "\n",
      "See the caveats in the documentation: https://pandas.pydata.org/pandas-docs/stable/user_guide/indexing.html#returning-a-view-versus-a-copy\n",
      "  chunk['predicted_label'] = parallel_classify_texts(chunk['review_full'], num_threads)\n",
      "/var/folders/9k/rnh189dj1_95w5p98sc88vbh0000gn/T/ipykernel_58829/3893720917.py:60: SettingWithCopyWarning: \n",
      "A value is trying to be set on a copy of a slice from a DataFrame.\n",
      "Try using .loc[row_indexer,col_indexer] = value instead\n",
      "\n",
      "See the caveats in the documentation: https://pandas.pydata.org/pandas-docs/stable/user_guide/indexing.html#returning-a-view-versus-a-copy\n",
      "  chunk['predicted_rating'] = chunk['predicted_label'].apply(convert_label_to_rating)\n"
     ]
    },
    {
     "name": "stdout",
     "output_type": "stream",
     "text": [
      "Saved chunk 11 to CSV.\n"
     ]
    },
    {
     "name": "stderr",
     "output_type": "stream",
     "text": [
      "100%|██████████| 1000/1000 [08:04<00:00,  2.06it/s]\n",
      "/var/folders/9k/rnh189dj1_95w5p98sc88vbh0000gn/T/ipykernel_58829/3893720917.py:47: SettingWithCopyWarning: \n",
      "A value is trying to be set on a copy of a slice from a DataFrame.\n",
      "Try using .loc[row_indexer,col_indexer] = value instead\n",
      "\n",
      "See the caveats in the documentation: https://pandas.pydata.org/pandas-docs/stable/user_guide/indexing.html#returning-a-view-versus-a-copy\n",
      "  chunk['predicted_label'] = parallel_classify_texts(chunk['review_full'], num_threads)\n",
      "/var/folders/9k/rnh189dj1_95w5p98sc88vbh0000gn/T/ipykernel_58829/3893720917.py:60: SettingWithCopyWarning: \n",
      "A value is trying to be set on a copy of a slice from a DataFrame.\n",
      "Try using .loc[row_indexer,col_indexer] = value instead\n",
      "\n",
      "See the caveats in the documentation: https://pandas.pydata.org/pandas-docs/stable/user_guide/indexing.html#returning-a-view-versus-a-copy\n",
      "  chunk['predicted_rating'] = chunk['predicted_label'].apply(convert_label_to_rating)\n"
     ]
    },
    {
     "name": "stdout",
     "output_type": "stream",
     "text": [
      "Saved chunk 12 to CSV.\n"
     ]
    },
    {
     "name": "stderr",
     "output_type": "stream",
     "text": [
      "100%|██████████| 1000/1000 [07:59<00:00,  2.09it/s]\n",
      "/var/folders/9k/rnh189dj1_95w5p98sc88vbh0000gn/T/ipykernel_58829/3893720917.py:47: SettingWithCopyWarning: \n",
      "A value is trying to be set on a copy of a slice from a DataFrame.\n",
      "Try using .loc[row_indexer,col_indexer] = value instead\n",
      "\n",
      "See the caveats in the documentation: https://pandas.pydata.org/pandas-docs/stable/user_guide/indexing.html#returning-a-view-versus-a-copy\n",
      "  chunk['predicted_label'] = parallel_classify_texts(chunk['review_full'], num_threads)\n",
      "/var/folders/9k/rnh189dj1_95w5p98sc88vbh0000gn/T/ipykernel_58829/3893720917.py:60: SettingWithCopyWarning: \n",
      "A value is trying to be set on a copy of a slice from a DataFrame.\n",
      "Try using .loc[row_indexer,col_indexer] = value instead\n",
      "\n",
      "See the caveats in the documentation: https://pandas.pydata.org/pandas-docs/stable/user_guide/indexing.html#returning-a-view-versus-a-copy\n",
      "  chunk['predicted_rating'] = chunk['predicted_label'].apply(convert_label_to_rating)\n"
     ]
    },
    {
     "name": "stdout",
     "output_type": "stream",
     "text": [
      "Saved chunk 13 to CSV.\n"
     ]
    },
    {
     "name": "stderr",
     "output_type": "stream",
     "text": [
      "100%|██████████| 1000/1000 [07:35<00:00,  2.19it/s]\n",
      "/var/folders/9k/rnh189dj1_95w5p98sc88vbh0000gn/T/ipykernel_58829/3893720917.py:47: SettingWithCopyWarning: \n",
      "A value is trying to be set on a copy of a slice from a DataFrame.\n",
      "Try using .loc[row_indexer,col_indexer] = value instead\n",
      "\n",
      "See the caveats in the documentation: https://pandas.pydata.org/pandas-docs/stable/user_guide/indexing.html#returning-a-view-versus-a-copy\n",
      "  chunk['predicted_label'] = parallel_classify_texts(chunk['review_full'], num_threads)\n",
      "/var/folders/9k/rnh189dj1_95w5p98sc88vbh0000gn/T/ipykernel_58829/3893720917.py:60: SettingWithCopyWarning: \n",
      "A value is trying to be set on a copy of a slice from a DataFrame.\n",
      "Try using .loc[row_indexer,col_indexer] = value instead\n",
      "\n",
      "See the caveats in the documentation: https://pandas.pydata.org/pandas-docs/stable/user_guide/indexing.html#returning-a-view-versus-a-copy\n",
      "  chunk['predicted_rating'] = chunk['predicted_label'].apply(convert_label_to_rating)\n"
     ]
    },
    {
     "name": "stdout",
     "output_type": "stream",
     "text": [
      "Saved chunk 14 to CSV.\n"
     ]
    },
    {
     "name": "stderr",
     "output_type": "stream",
     "text": [
      "100%|██████████| 1000/1000 [07:53<00:00,  2.11it/s]\n",
      "/var/folders/9k/rnh189dj1_95w5p98sc88vbh0000gn/T/ipykernel_58829/3893720917.py:47: SettingWithCopyWarning: \n",
      "A value is trying to be set on a copy of a slice from a DataFrame.\n",
      "Try using .loc[row_indexer,col_indexer] = value instead\n",
      "\n",
      "See the caveats in the documentation: https://pandas.pydata.org/pandas-docs/stable/user_guide/indexing.html#returning-a-view-versus-a-copy\n",
      "  chunk['predicted_label'] = parallel_classify_texts(chunk['review_full'], num_threads)\n",
      "/var/folders/9k/rnh189dj1_95w5p98sc88vbh0000gn/T/ipykernel_58829/3893720917.py:60: SettingWithCopyWarning: \n",
      "A value is trying to be set on a copy of a slice from a DataFrame.\n",
      "Try using .loc[row_indexer,col_indexer] = value instead\n",
      "\n",
      "See the caveats in the documentation: https://pandas.pydata.org/pandas-docs/stable/user_guide/indexing.html#returning-a-view-versus-a-copy\n",
      "  chunk['predicted_rating'] = chunk['predicted_label'].apply(convert_label_to_rating)\n"
     ]
    },
    {
     "name": "stdout",
     "output_type": "stream",
     "text": [
      "Saved chunk 15 to CSV.\n"
     ]
    },
    {
     "name": "stderr",
     "output_type": "stream",
     "text": [
      "100%|██████████| 1000/1000 [08:09<00:00,  2.04it/s]\n",
      "/var/folders/9k/rnh189dj1_95w5p98sc88vbh0000gn/T/ipykernel_58829/3893720917.py:47: SettingWithCopyWarning: \n",
      "A value is trying to be set on a copy of a slice from a DataFrame.\n",
      "Try using .loc[row_indexer,col_indexer] = value instead\n",
      "\n",
      "See the caveats in the documentation: https://pandas.pydata.org/pandas-docs/stable/user_guide/indexing.html#returning-a-view-versus-a-copy\n",
      "  chunk['predicted_label'] = parallel_classify_texts(chunk['review_full'], num_threads)\n",
      "/var/folders/9k/rnh189dj1_95w5p98sc88vbh0000gn/T/ipykernel_58829/3893720917.py:60: SettingWithCopyWarning: \n",
      "A value is trying to be set on a copy of a slice from a DataFrame.\n",
      "Try using .loc[row_indexer,col_indexer] = value instead\n",
      "\n",
      "See the caveats in the documentation: https://pandas.pydata.org/pandas-docs/stable/user_guide/indexing.html#returning-a-view-versus-a-copy\n",
      "  chunk['predicted_rating'] = chunk['predicted_label'].apply(convert_label_to_rating)\n"
     ]
    },
    {
     "name": "stdout",
     "output_type": "stream",
     "text": [
      "Saved chunk 16 to CSV.\n"
     ]
    },
    {
     "name": "stderr",
     "output_type": "stream",
     "text": [
      "100%|██████████| 1000/1000 [07:41<00:00,  2.16it/s]\n",
      "/var/folders/9k/rnh189dj1_95w5p98sc88vbh0000gn/T/ipykernel_58829/3893720917.py:47: SettingWithCopyWarning: \n",
      "A value is trying to be set on a copy of a slice from a DataFrame.\n",
      "Try using .loc[row_indexer,col_indexer] = value instead\n",
      "\n",
      "See the caveats in the documentation: https://pandas.pydata.org/pandas-docs/stable/user_guide/indexing.html#returning-a-view-versus-a-copy\n",
      "  chunk['predicted_label'] = parallel_classify_texts(chunk['review_full'], num_threads)\n",
      "/var/folders/9k/rnh189dj1_95w5p98sc88vbh0000gn/T/ipykernel_58829/3893720917.py:60: SettingWithCopyWarning: \n",
      "A value is trying to be set on a copy of a slice from a DataFrame.\n",
      "Try using .loc[row_indexer,col_indexer] = value instead\n",
      "\n",
      "See the caveats in the documentation: https://pandas.pydata.org/pandas-docs/stable/user_guide/indexing.html#returning-a-view-versus-a-copy\n",
      "  chunk['predicted_rating'] = chunk['predicted_label'].apply(convert_label_to_rating)\n"
     ]
    },
    {
     "name": "stdout",
     "output_type": "stream",
     "text": [
      "Saved chunk 17 to CSV.\n"
     ]
    },
    {
     "name": "stderr",
     "output_type": "stream",
     "text": [
      "100%|██████████| 1000/1000 [08:10<00:00,  2.04it/s]\n",
      "/var/folders/9k/rnh189dj1_95w5p98sc88vbh0000gn/T/ipykernel_58829/3893720917.py:47: SettingWithCopyWarning: \n",
      "A value is trying to be set on a copy of a slice from a DataFrame.\n",
      "Try using .loc[row_indexer,col_indexer] = value instead\n",
      "\n",
      "See the caveats in the documentation: https://pandas.pydata.org/pandas-docs/stable/user_guide/indexing.html#returning-a-view-versus-a-copy\n",
      "  chunk['predicted_label'] = parallel_classify_texts(chunk['review_full'], num_threads)\n",
      "/var/folders/9k/rnh189dj1_95w5p98sc88vbh0000gn/T/ipykernel_58829/3893720917.py:60: SettingWithCopyWarning: \n",
      "A value is trying to be set on a copy of a slice from a DataFrame.\n",
      "Try using .loc[row_indexer,col_indexer] = value instead\n",
      "\n",
      "See the caveats in the documentation: https://pandas.pydata.org/pandas-docs/stable/user_guide/indexing.html#returning-a-view-versus-a-copy\n",
      "  chunk['predicted_rating'] = chunk['predicted_label'].apply(convert_label_to_rating)\n"
     ]
    },
    {
     "name": "stdout",
     "output_type": "stream",
     "text": [
      "Saved chunk 18 to CSV.\n"
     ]
    },
    {
     "name": "stderr",
     "output_type": "stream",
     "text": [
      "100%|██████████| 1000/1000 [08:38<00:00,  1.93it/s]\n",
      "/var/folders/9k/rnh189dj1_95w5p98sc88vbh0000gn/T/ipykernel_58829/3893720917.py:47: SettingWithCopyWarning: \n",
      "A value is trying to be set on a copy of a slice from a DataFrame.\n",
      "Try using .loc[row_indexer,col_indexer] = value instead\n",
      "\n",
      "See the caveats in the documentation: https://pandas.pydata.org/pandas-docs/stable/user_guide/indexing.html#returning-a-view-versus-a-copy\n",
      "  chunk['predicted_label'] = parallel_classify_texts(chunk['review_full'], num_threads)\n",
      "/var/folders/9k/rnh189dj1_95w5p98sc88vbh0000gn/T/ipykernel_58829/3893720917.py:60: SettingWithCopyWarning: \n",
      "A value is trying to be set on a copy of a slice from a DataFrame.\n",
      "Try using .loc[row_indexer,col_indexer] = value instead\n",
      "\n",
      "See the caveats in the documentation: https://pandas.pydata.org/pandas-docs/stable/user_guide/indexing.html#returning-a-view-versus-a-copy\n",
      "  chunk['predicted_rating'] = chunk['predicted_label'].apply(convert_label_to_rating)\n"
     ]
    },
    {
     "name": "stdout",
     "output_type": "stream",
     "text": [
      "Saved chunk 19 to CSV.\n"
     ]
    },
    {
     "name": "stderr",
     "output_type": "stream",
     "text": [
      "100%|██████████| 1000/1000 [08:23<00:00,  1.99it/s]\n",
      "/var/folders/9k/rnh189dj1_95w5p98sc88vbh0000gn/T/ipykernel_58829/3893720917.py:47: SettingWithCopyWarning: \n",
      "A value is trying to be set on a copy of a slice from a DataFrame.\n",
      "Try using .loc[row_indexer,col_indexer] = value instead\n",
      "\n",
      "See the caveats in the documentation: https://pandas.pydata.org/pandas-docs/stable/user_guide/indexing.html#returning-a-view-versus-a-copy\n",
      "  chunk['predicted_label'] = parallel_classify_texts(chunk['review_full'], num_threads)\n",
      "/var/folders/9k/rnh189dj1_95w5p98sc88vbh0000gn/T/ipykernel_58829/3893720917.py:60: SettingWithCopyWarning: \n",
      "A value is trying to be set on a copy of a slice from a DataFrame.\n",
      "Try using .loc[row_indexer,col_indexer] = value instead\n",
      "\n",
      "See the caveats in the documentation: https://pandas.pydata.org/pandas-docs/stable/user_guide/indexing.html#returning-a-view-versus-a-copy\n",
      "  chunk['predicted_rating'] = chunk['predicted_label'].apply(convert_label_to_rating)\n"
     ]
    },
    {
     "name": "stdout",
     "output_type": "stream",
     "text": [
      "Saved chunk 20 to CSV.\n"
     ]
    },
    {
     "name": "stderr",
     "output_type": "stream",
     "text": [
      "100%|██████████| 1000/1000 [09:20<00:00,  1.79it/s]\n",
      "/var/folders/9k/rnh189dj1_95w5p98sc88vbh0000gn/T/ipykernel_58829/3893720917.py:47: SettingWithCopyWarning: \n",
      "A value is trying to be set on a copy of a slice from a DataFrame.\n",
      "Try using .loc[row_indexer,col_indexer] = value instead\n",
      "\n",
      "See the caveats in the documentation: https://pandas.pydata.org/pandas-docs/stable/user_guide/indexing.html#returning-a-view-versus-a-copy\n",
      "  chunk['predicted_label'] = parallel_classify_texts(chunk['review_full'], num_threads)\n",
      "/var/folders/9k/rnh189dj1_95w5p98sc88vbh0000gn/T/ipykernel_58829/3893720917.py:60: SettingWithCopyWarning: \n",
      "A value is trying to be set on a copy of a slice from a DataFrame.\n",
      "Try using .loc[row_indexer,col_indexer] = value instead\n",
      "\n",
      "See the caveats in the documentation: https://pandas.pydata.org/pandas-docs/stable/user_guide/indexing.html#returning-a-view-versus-a-copy\n",
      "  chunk['predicted_rating'] = chunk['predicted_label'].apply(convert_label_to_rating)\n"
     ]
    },
    {
     "name": "stdout",
     "output_type": "stream",
     "text": [
      "Saved chunk 21 to CSV.\n"
     ]
    },
    {
     "name": "stderr",
     "output_type": "stream",
     "text": [
      "100%|██████████| 1000/1000 [08:01<00:00,  2.08it/s]\n",
      "/var/folders/9k/rnh189dj1_95w5p98sc88vbh0000gn/T/ipykernel_58829/3893720917.py:47: SettingWithCopyWarning: \n",
      "A value is trying to be set on a copy of a slice from a DataFrame.\n",
      "Try using .loc[row_indexer,col_indexer] = value instead\n",
      "\n",
      "See the caveats in the documentation: https://pandas.pydata.org/pandas-docs/stable/user_guide/indexing.html#returning-a-view-versus-a-copy\n",
      "  chunk['predicted_label'] = parallel_classify_texts(chunk['review_full'], num_threads)\n",
      "/var/folders/9k/rnh189dj1_95w5p98sc88vbh0000gn/T/ipykernel_58829/3893720917.py:60: SettingWithCopyWarning: \n",
      "A value is trying to be set on a copy of a slice from a DataFrame.\n",
      "Try using .loc[row_indexer,col_indexer] = value instead\n",
      "\n",
      "See the caveats in the documentation: https://pandas.pydata.org/pandas-docs/stable/user_guide/indexing.html#returning-a-view-versus-a-copy\n",
      "  chunk['predicted_rating'] = chunk['predicted_label'].apply(convert_label_to_rating)\n"
     ]
    },
    {
     "name": "stdout",
     "output_type": "stream",
     "text": [
      "Saved chunk 22 to CSV.\n"
     ]
    },
    {
     "name": "stderr",
     "output_type": "stream",
     "text": [
      "100%|██████████| 1000/1000 [08:27<00:00,  1.97it/s]\n",
      "/var/folders/9k/rnh189dj1_95w5p98sc88vbh0000gn/T/ipykernel_58829/3893720917.py:47: SettingWithCopyWarning: \n",
      "A value is trying to be set on a copy of a slice from a DataFrame.\n",
      "Try using .loc[row_indexer,col_indexer] = value instead\n",
      "\n",
      "See the caveats in the documentation: https://pandas.pydata.org/pandas-docs/stable/user_guide/indexing.html#returning-a-view-versus-a-copy\n",
      "  chunk['predicted_label'] = parallel_classify_texts(chunk['review_full'], num_threads)\n",
      "/var/folders/9k/rnh189dj1_95w5p98sc88vbh0000gn/T/ipykernel_58829/3893720917.py:60: SettingWithCopyWarning: \n",
      "A value is trying to be set on a copy of a slice from a DataFrame.\n",
      "Try using .loc[row_indexer,col_indexer] = value instead\n",
      "\n",
      "See the caveats in the documentation: https://pandas.pydata.org/pandas-docs/stable/user_guide/indexing.html#returning-a-view-versus-a-copy\n",
      "  chunk['predicted_rating'] = chunk['predicted_label'].apply(convert_label_to_rating)\n"
     ]
    },
    {
     "name": "stdout",
     "output_type": "stream",
     "text": [
      "Saved chunk 23 to CSV.\n"
     ]
    },
    {
     "name": "stderr",
     "output_type": "stream",
     "text": [
      "100%|██████████| 1000/1000 [08:17<00:00,  2.01it/s]\n",
      "/var/folders/9k/rnh189dj1_95w5p98sc88vbh0000gn/T/ipykernel_58829/3893720917.py:47: SettingWithCopyWarning: \n",
      "A value is trying to be set on a copy of a slice from a DataFrame.\n",
      "Try using .loc[row_indexer,col_indexer] = value instead\n",
      "\n",
      "See the caveats in the documentation: https://pandas.pydata.org/pandas-docs/stable/user_guide/indexing.html#returning-a-view-versus-a-copy\n",
      "  chunk['predicted_label'] = parallel_classify_texts(chunk['review_full'], num_threads)\n",
      "/var/folders/9k/rnh189dj1_95w5p98sc88vbh0000gn/T/ipykernel_58829/3893720917.py:60: SettingWithCopyWarning: \n",
      "A value is trying to be set on a copy of a slice from a DataFrame.\n",
      "Try using .loc[row_indexer,col_indexer] = value instead\n",
      "\n",
      "See the caveats in the documentation: https://pandas.pydata.org/pandas-docs/stable/user_guide/indexing.html#returning-a-view-versus-a-copy\n",
      "  chunk['predicted_rating'] = chunk['predicted_label'].apply(convert_label_to_rating)\n"
     ]
    },
    {
     "name": "stdout",
     "output_type": "stream",
     "text": [
      "Saved chunk 24 to CSV.\n"
     ]
    },
    {
     "name": "stderr",
     "output_type": "stream",
     "text": [
      "100%|██████████| 1000/1000 [08:43<00:00,  1.91it/s]\n",
      "/var/folders/9k/rnh189dj1_95w5p98sc88vbh0000gn/T/ipykernel_58829/3893720917.py:47: SettingWithCopyWarning: \n",
      "A value is trying to be set on a copy of a slice from a DataFrame.\n",
      "Try using .loc[row_indexer,col_indexer] = value instead\n",
      "\n",
      "See the caveats in the documentation: https://pandas.pydata.org/pandas-docs/stable/user_guide/indexing.html#returning-a-view-versus-a-copy\n",
      "  chunk['predicted_label'] = parallel_classify_texts(chunk['review_full'], num_threads)\n",
      "/var/folders/9k/rnh189dj1_95w5p98sc88vbh0000gn/T/ipykernel_58829/3893720917.py:60: SettingWithCopyWarning: \n",
      "A value is trying to be set on a copy of a slice from a DataFrame.\n",
      "Try using .loc[row_indexer,col_indexer] = value instead\n",
      "\n",
      "See the caveats in the documentation: https://pandas.pydata.org/pandas-docs/stable/user_guide/indexing.html#returning-a-view-versus-a-copy\n",
      "  chunk['predicted_rating'] = chunk['predicted_label'].apply(convert_label_to_rating)\n"
     ]
    },
    {
     "name": "stdout",
     "output_type": "stream",
     "text": [
      "Saved chunk 25 to CSV.\n"
     ]
    },
    {
     "name": "stderr",
     "output_type": "stream",
     "text": [
      "100%|██████████| 1000/1000 [09:01<00:00,  1.85it/s]\n",
      "/var/folders/9k/rnh189dj1_95w5p98sc88vbh0000gn/T/ipykernel_58829/3893720917.py:47: SettingWithCopyWarning: \n",
      "A value is trying to be set on a copy of a slice from a DataFrame.\n",
      "Try using .loc[row_indexer,col_indexer] = value instead\n",
      "\n",
      "See the caveats in the documentation: https://pandas.pydata.org/pandas-docs/stable/user_guide/indexing.html#returning-a-view-versus-a-copy\n",
      "  chunk['predicted_label'] = parallel_classify_texts(chunk['review_full'], num_threads)\n",
      "/var/folders/9k/rnh189dj1_95w5p98sc88vbh0000gn/T/ipykernel_58829/3893720917.py:60: SettingWithCopyWarning: \n",
      "A value is trying to be set on a copy of a slice from a DataFrame.\n",
      "Try using .loc[row_indexer,col_indexer] = value instead\n",
      "\n",
      "See the caveats in the documentation: https://pandas.pydata.org/pandas-docs/stable/user_guide/indexing.html#returning-a-view-versus-a-copy\n",
      "  chunk['predicted_rating'] = chunk['predicted_label'].apply(convert_label_to_rating)\n"
     ]
    },
    {
     "name": "stdout",
     "output_type": "stream",
     "text": [
      "Saved chunk 26 to CSV.\n"
     ]
    },
    {
     "name": "stderr",
     "output_type": "stream",
     "text": [
      "100%|██████████| 1000/1000 [08:53<00:00,  1.88it/s]\n",
      "/var/folders/9k/rnh189dj1_95w5p98sc88vbh0000gn/T/ipykernel_58829/3893720917.py:47: SettingWithCopyWarning: \n",
      "A value is trying to be set on a copy of a slice from a DataFrame.\n",
      "Try using .loc[row_indexer,col_indexer] = value instead\n",
      "\n",
      "See the caveats in the documentation: https://pandas.pydata.org/pandas-docs/stable/user_guide/indexing.html#returning-a-view-versus-a-copy\n",
      "  chunk['predicted_label'] = parallel_classify_texts(chunk['review_full'], num_threads)\n",
      "/var/folders/9k/rnh189dj1_95w5p98sc88vbh0000gn/T/ipykernel_58829/3893720917.py:60: SettingWithCopyWarning: \n",
      "A value is trying to be set on a copy of a slice from a DataFrame.\n",
      "Try using .loc[row_indexer,col_indexer] = value instead\n",
      "\n",
      "See the caveats in the documentation: https://pandas.pydata.org/pandas-docs/stable/user_guide/indexing.html#returning-a-view-versus-a-copy\n",
      "  chunk['predicted_rating'] = chunk['predicted_label'].apply(convert_label_to_rating)\n"
     ]
    },
    {
     "name": "stdout",
     "output_type": "stream",
     "text": [
      "Saved chunk 27 to CSV.\n"
     ]
    },
    {
     "name": "stderr",
     "output_type": "stream",
     "text": [
      "100%|██████████| 1000/1000 [08:36<00:00,  1.93it/s]\n",
      "/var/folders/9k/rnh189dj1_95w5p98sc88vbh0000gn/T/ipykernel_58829/3893720917.py:47: SettingWithCopyWarning: \n",
      "A value is trying to be set on a copy of a slice from a DataFrame.\n",
      "Try using .loc[row_indexer,col_indexer] = value instead\n",
      "\n",
      "See the caveats in the documentation: https://pandas.pydata.org/pandas-docs/stable/user_guide/indexing.html#returning-a-view-versus-a-copy\n",
      "  chunk['predicted_label'] = parallel_classify_texts(chunk['review_full'], num_threads)\n",
      "/var/folders/9k/rnh189dj1_95w5p98sc88vbh0000gn/T/ipykernel_58829/3893720917.py:60: SettingWithCopyWarning: \n",
      "A value is trying to be set on a copy of a slice from a DataFrame.\n",
      "Try using .loc[row_indexer,col_indexer] = value instead\n",
      "\n",
      "See the caveats in the documentation: https://pandas.pydata.org/pandas-docs/stable/user_guide/indexing.html#returning-a-view-versus-a-copy\n",
      "  chunk['predicted_rating'] = chunk['predicted_label'].apply(convert_label_to_rating)\n"
     ]
    },
    {
     "name": "stdout",
     "output_type": "stream",
     "text": [
      "Saved chunk 28 to CSV.\n"
     ]
    },
    {
     "name": "stderr",
     "output_type": "stream",
     "text": [
      "100%|██████████| 1000/1000 [08:51<00:00,  1.88it/s]\n",
      "/var/folders/9k/rnh189dj1_95w5p98sc88vbh0000gn/T/ipykernel_58829/3893720917.py:47: SettingWithCopyWarning: \n",
      "A value is trying to be set on a copy of a slice from a DataFrame.\n",
      "Try using .loc[row_indexer,col_indexer] = value instead\n",
      "\n",
      "See the caveats in the documentation: https://pandas.pydata.org/pandas-docs/stable/user_guide/indexing.html#returning-a-view-versus-a-copy\n",
      "  chunk['predicted_label'] = parallel_classify_texts(chunk['review_full'], num_threads)\n",
      "/var/folders/9k/rnh189dj1_95w5p98sc88vbh0000gn/T/ipykernel_58829/3893720917.py:60: SettingWithCopyWarning: \n",
      "A value is trying to be set on a copy of a slice from a DataFrame.\n",
      "Try using .loc[row_indexer,col_indexer] = value instead\n",
      "\n",
      "See the caveats in the documentation: https://pandas.pydata.org/pandas-docs/stable/user_guide/indexing.html#returning-a-view-versus-a-copy\n",
      "  chunk['predicted_rating'] = chunk['predicted_label'].apply(convert_label_to_rating)\n"
     ]
    },
    {
     "name": "stdout",
     "output_type": "stream",
     "text": [
      "Saved chunk 29 to CSV.\n"
     ]
    },
    {
     "name": "stderr",
     "output_type": "stream",
     "text": [
      "100%|██████████| 1000/1000 [08:45<00:00,  1.90it/s]\n",
      "/var/folders/9k/rnh189dj1_95w5p98sc88vbh0000gn/T/ipykernel_58829/3893720917.py:47: SettingWithCopyWarning: \n",
      "A value is trying to be set on a copy of a slice from a DataFrame.\n",
      "Try using .loc[row_indexer,col_indexer] = value instead\n",
      "\n",
      "See the caveats in the documentation: https://pandas.pydata.org/pandas-docs/stable/user_guide/indexing.html#returning-a-view-versus-a-copy\n",
      "  chunk['predicted_label'] = parallel_classify_texts(chunk['review_full'], num_threads)\n",
      "/var/folders/9k/rnh189dj1_95w5p98sc88vbh0000gn/T/ipykernel_58829/3893720917.py:60: SettingWithCopyWarning: \n",
      "A value is trying to be set on a copy of a slice from a DataFrame.\n",
      "Try using .loc[row_indexer,col_indexer] = value instead\n",
      "\n",
      "See the caveats in the documentation: https://pandas.pydata.org/pandas-docs/stable/user_guide/indexing.html#returning-a-view-versus-a-copy\n",
      "  chunk['predicted_rating'] = chunk['predicted_label'].apply(convert_label_to_rating)\n"
     ]
    },
    {
     "name": "stdout",
     "output_type": "stream",
     "text": [
      "Saved chunk 30 to CSV.\n"
     ]
    },
    {
     "name": "stderr",
     "output_type": "stream",
     "text": [
      "100%|██████████| 1000/1000 [08:57<00:00,  1.86it/s]\n",
      "/var/folders/9k/rnh189dj1_95w5p98sc88vbh0000gn/T/ipykernel_58829/3893720917.py:47: SettingWithCopyWarning: \n",
      "A value is trying to be set on a copy of a slice from a DataFrame.\n",
      "Try using .loc[row_indexer,col_indexer] = value instead\n",
      "\n",
      "See the caveats in the documentation: https://pandas.pydata.org/pandas-docs/stable/user_guide/indexing.html#returning-a-view-versus-a-copy\n",
      "  chunk['predicted_label'] = parallel_classify_texts(chunk['review_full'], num_threads)\n",
      "/var/folders/9k/rnh189dj1_95w5p98sc88vbh0000gn/T/ipykernel_58829/3893720917.py:60: SettingWithCopyWarning: \n",
      "A value is trying to be set on a copy of a slice from a DataFrame.\n",
      "Try using .loc[row_indexer,col_indexer] = value instead\n",
      "\n",
      "See the caveats in the documentation: https://pandas.pydata.org/pandas-docs/stable/user_guide/indexing.html#returning-a-view-versus-a-copy\n",
      "  chunk['predicted_rating'] = chunk['predicted_label'].apply(convert_label_to_rating)\n"
     ]
    },
    {
     "name": "stdout",
     "output_type": "stream",
     "text": [
      "Saved chunk 31 to CSV.\n"
     ]
    },
    {
     "name": "stderr",
     "output_type": "stream",
     "text": [
      "100%|██████████| 1000/1000 [08:20<00:00,  2.00it/s]\n",
      "/var/folders/9k/rnh189dj1_95w5p98sc88vbh0000gn/T/ipykernel_58829/3893720917.py:47: SettingWithCopyWarning: \n",
      "A value is trying to be set on a copy of a slice from a DataFrame.\n",
      "Try using .loc[row_indexer,col_indexer] = value instead\n",
      "\n",
      "See the caveats in the documentation: https://pandas.pydata.org/pandas-docs/stable/user_guide/indexing.html#returning-a-view-versus-a-copy\n",
      "  chunk['predicted_label'] = parallel_classify_texts(chunk['review_full'], num_threads)\n",
      "/var/folders/9k/rnh189dj1_95w5p98sc88vbh0000gn/T/ipykernel_58829/3893720917.py:60: SettingWithCopyWarning: \n",
      "A value is trying to be set on a copy of a slice from a DataFrame.\n",
      "Try using .loc[row_indexer,col_indexer] = value instead\n",
      "\n",
      "See the caveats in the documentation: https://pandas.pydata.org/pandas-docs/stable/user_guide/indexing.html#returning-a-view-versus-a-copy\n",
      "  chunk['predicted_rating'] = chunk['predicted_label'].apply(convert_label_to_rating)\n"
     ]
    },
    {
     "name": "stdout",
     "output_type": "stream",
     "text": [
      "Saved chunk 32 to CSV.\n"
     ]
    },
    {
     "name": "stderr",
     "output_type": "stream",
     "text": [
      "100%|██████████| 1000/1000 [08:25<00:00,  1.98it/s]\n",
      "/var/folders/9k/rnh189dj1_95w5p98sc88vbh0000gn/T/ipykernel_58829/3893720917.py:47: SettingWithCopyWarning: \n",
      "A value is trying to be set on a copy of a slice from a DataFrame.\n",
      "Try using .loc[row_indexer,col_indexer] = value instead\n",
      "\n",
      "See the caveats in the documentation: https://pandas.pydata.org/pandas-docs/stable/user_guide/indexing.html#returning-a-view-versus-a-copy\n",
      "  chunk['predicted_label'] = parallel_classify_texts(chunk['review_full'], num_threads)\n",
      "/var/folders/9k/rnh189dj1_95w5p98sc88vbh0000gn/T/ipykernel_58829/3893720917.py:60: SettingWithCopyWarning: \n",
      "A value is trying to be set on a copy of a slice from a DataFrame.\n",
      "Try using .loc[row_indexer,col_indexer] = value instead\n",
      "\n",
      "See the caveats in the documentation: https://pandas.pydata.org/pandas-docs/stable/user_guide/indexing.html#returning-a-view-versus-a-copy\n",
      "  chunk['predicted_rating'] = chunk['predicted_label'].apply(convert_label_to_rating)\n"
     ]
    },
    {
     "name": "stdout",
     "output_type": "stream",
     "text": [
      "Saved chunk 33 to CSV.\n"
     ]
    },
    {
     "name": "stderr",
     "output_type": "stream",
     "text": [
      "100%|██████████| 1000/1000 [08:52<00:00,  1.88it/s]\n",
      "/var/folders/9k/rnh189dj1_95w5p98sc88vbh0000gn/T/ipykernel_58829/3893720917.py:47: SettingWithCopyWarning: \n",
      "A value is trying to be set on a copy of a slice from a DataFrame.\n",
      "Try using .loc[row_indexer,col_indexer] = value instead\n",
      "\n",
      "See the caveats in the documentation: https://pandas.pydata.org/pandas-docs/stable/user_guide/indexing.html#returning-a-view-versus-a-copy\n",
      "  chunk['predicted_label'] = parallel_classify_texts(chunk['review_full'], num_threads)\n",
      "/var/folders/9k/rnh189dj1_95w5p98sc88vbh0000gn/T/ipykernel_58829/3893720917.py:60: SettingWithCopyWarning: \n",
      "A value is trying to be set on a copy of a slice from a DataFrame.\n",
      "Try using .loc[row_indexer,col_indexer] = value instead\n",
      "\n",
      "See the caveats in the documentation: https://pandas.pydata.org/pandas-docs/stable/user_guide/indexing.html#returning-a-view-versus-a-copy\n",
      "  chunk['predicted_rating'] = chunk['predicted_label'].apply(convert_label_to_rating)\n"
     ]
    },
    {
     "name": "stdout",
     "output_type": "stream",
     "text": [
      "Saved chunk 34 to CSV.\n"
     ]
    },
    {
     "name": "stderr",
     "output_type": "stream",
     "text": [
      "100%|██████████| 1000/1000 [08:21<00:00,  1.99it/s]\n",
      "/var/folders/9k/rnh189dj1_95w5p98sc88vbh0000gn/T/ipykernel_58829/3893720917.py:47: SettingWithCopyWarning: \n",
      "A value is trying to be set on a copy of a slice from a DataFrame.\n",
      "Try using .loc[row_indexer,col_indexer] = value instead\n",
      "\n",
      "See the caveats in the documentation: https://pandas.pydata.org/pandas-docs/stable/user_guide/indexing.html#returning-a-view-versus-a-copy\n",
      "  chunk['predicted_label'] = parallel_classify_texts(chunk['review_full'], num_threads)\n",
      "/var/folders/9k/rnh189dj1_95w5p98sc88vbh0000gn/T/ipykernel_58829/3893720917.py:60: SettingWithCopyWarning: \n",
      "A value is trying to be set on a copy of a slice from a DataFrame.\n",
      "Try using .loc[row_indexer,col_indexer] = value instead\n",
      "\n",
      "See the caveats in the documentation: https://pandas.pydata.org/pandas-docs/stable/user_guide/indexing.html#returning-a-view-versus-a-copy\n",
      "  chunk['predicted_rating'] = chunk['predicted_label'].apply(convert_label_to_rating)\n"
     ]
    },
    {
     "name": "stdout",
     "output_type": "stream",
     "text": [
      "Saved chunk 35 to CSV.\n"
     ]
    },
    {
     "name": "stderr",
     "output_type": "stream",
     "text": [
      "100%|██████████| 1000/1000 [08:39<00:00,  1.92it/s]\n",
      "/var/folders/9k/rnh189dj1_95w5p98sc88vbh0000gn/T/ipykernel_58829/3893720917.py:47: SettingWithCopyWarning: \n",
      "A value is trying to be set on a copy of a slice from a DataFrame.\n",
      "Try using .loc[row_indexer,col_indexer] = value instead\n",
      "\n",
      "See the caveats in the documentation: https://pandas.pydata.org/pandas-docs/stable/user_guide/indexing.html#returning-a-view-versus-a-copy\n",
      "  chunk['predicted_label'] = parallel_classify_texts(chunk['review_full'], num_threads)\n",
      "/var/folders/9k/rnh189dj1_95w5p98sc88vbh0000gn/T/ipykernel_58829/3893720917.py:60: SettingWithCopyWarning: \n",
      "A value is trying to be set on a copy of a slice from a DataFrame.\n",
      "Try using .loc[row_indexer,col_indexer] = value instead\n",
      "\n",
      "See the caveats in the documentation: https://pandas.pydata.org/pandas-docs/stable/user_guide/indexing.html#returning-a-view-versus-a-copy\n",
      "  chunk['predicted_rating'] = chunk['predicted_label'].apply(convert_label_to_rating)\n"
     ]
    },
    {
     "name": "stdout",
     "output_type": "stream",
     "text": [
      "Saved chunk 36 to CSV.\n"
     ]
    },
    {
     "name": "stderr",
     "output_type": "stream",
     "text": [
      "100%|██████████| 1000/1000 [08:18<00:00,  2.01it/s]\n",
      "/var/folders/9k/rnh189dj1_95w5p98sc88vbh0000gn/T/ipykernel_58829/3893720917.py:47: SettingWithCopyWarning: \n",
      "A value is trying to be set on a copy of a slice from a DataFrame.\n",
      "Try using .loc[row_indexer,col_indexer] = value instead\n",
      "\n",
      "See the caveats in the documentation: https://pandas.pydata.org/pandas-docs/stable/user_guide/indexing.html#returning-a-view-versus-a-copy\n",
      "  chunk['predicted_label'] = parallel_classify_texts(chunk['review_full'], num_threads)\n",
      "/var/folders/9k/rnh189dj1_95w5p98sc88vbh0000gn/T/ipykernel_58829/3893720917.py:60: SettingWithCopyWarning: \n",
      "A value is trying to be set on a copy of a slice from a DataFrame.\n",
      "Try using .loc[row_indexer,col_indexer] = value instead\n",
      "\n",
      "See the caveats in the documentation: https://pandas.pydata.org/pandas-docs/stable/user_guide/indexing.html#returning-a-view-versus-a-copy\n",
      "  chunk['predicted_rating'] = chunk['predicted_label'].apply(convert_label_to_rating)\n"
     ]
    },
    {
     "name": "stdout",
     "output_type": "stream",
     "text": [
      "Saved chunk 37 to CSV.\n"
     ]
    },
    {
     "name": "stderr",
     "output_type": "stream",
     "text": [
      "100%|██████████| 1000/1000 [08:34<00:00,  1.95it/s]\n",
      "/var/folders/9k/rnh189dj1_95w5p98sc88vbh0000gn/T/ipykernel_58829/3893720917.py:47: SettingWithCopyWarning: \n",
      "A value is trying to be set on a copy of a slice from a DataFrame.\n",
      "Try using .loc[row_indexer,col_indexer] = value instead\n",
      "\n",
      "See the caveats in the documentation: https://pandas.pydata.org/pandas-docs/stable/user_guide/indexing.html#returning-a-view-versus-a-copy\n",
      "  chunk['predicted_label'] = parallel_classify_texts(chunk['review_full'], num_threads)\n",
      "/var/folders/9k/rnh189dj1_95w5p98sc88vbh0000gn/T/ipykernel_58829/3893720917.py:60: SettingWithCopyWarning: \n",
      "A value is trying to be set on a copy of a slice from a DataFrame.\n",
      "Try using .loc[row_indexer,col_indexer] = value instead\n",
      "\n",
      "See the caveats in the documentation: https://pandas.pydata.org/pandas-docs/stable/user_guide/indexing.html#returning-a-view-versus-a-copy\n",
      "  chunk['predicted_rating'] = chunk['predicted_label'].apply(convert_label_to_rating)\n"
     ]
    },
    {
     "name": "stdout",
     "output_type": "stream",
     "text": [
      "Saved chunk 38 to CSV.\n"
     ]
    },
    {
     "name": "stderr",
     "output_type": "stream",
     "text": [
      "100%|██████████| 1000/1000 [08:11<00:00,  2.03it/s]\n",
      "/var/folders/9k/rnh189dj1_95w5p98sc88vbh0000gn/T/ipykernel_58829/3893720917.py:47: SettingWithCopyWarning: \n",
      "A value is trying to be set on a copy of a slice from a DataFrame.\n",
      "Try using .loc[row_indexer,col_indexer] = value instead\n",
      "\n",
      "See the caveats in the documentation: https://pandas.pydata.org/pandas-docs/stable/user_guide/indexing.html#returning-a-view-versus-a-copy\n",
      "  chunk['predicted_label'] = parallel_classify_texts(chunk['review_full'], num_threads)\n",
      "/var/folders/9k/rnh189dj1_95w5p98sc88vbh0000gn/T/ipykernel_58829/3893720917.py:60: SettingWithCopyWarning: \n",
      "A value is trying to be set on a copy of a slice from a DataFrame.\n",
      "Try using .loc[row_indexer,col_indexer] = value instead\n",
      "\n",
      "See the caveats in the documentation: https://pandas.pydata.org/pandas-docs/stable/user_guide/indexing.html#returning-a-view-versus-a-copy\n",
      "  chunk['predicted_rating'] = chunk['predicted_label'].apply(convert_label_to_rating)\n"
     ]
    },
    {
     "name": "stdout",
     "output_type": "stream",
     "text": [
      "Saved chunk 39 to CSV.\n"
     ]
    },
    {
     "name": "stderr",
     "output_type": "stream",
     "text": [
      "100%|██████████| 1000/1000 [08:28<00:00,  1.96it/s]\n",
      "/var/folders/9k/rnh189dj1_95w5p98sc88vbh0000gn/T/ipykernel_58829/3893720917.py:47: SettingWithCopyWarning: \n",
      "A value is trying to be set on a copy of a slice from a DataFrame.\n",
      "Try using .loc[row_indexer,col_indexer] = value instead\n",
      "\n",
      "See the caveats in the documentation: https://pandas.pydata.org/pandas-docs/stable/user_guide/indexing.html#returning-a-view-versus-a-copy\n",
      "  chunk['predicted_label'] = parallel_classify_texts(chunk['review_full'], num_threads)\n",
      "/var/folders/9k/rnh189dj1_95w5p98sc88vbh0000gn/T/ipykernel_58829/3893720917.py:60: SettingWithCopyWarning: \n",
      "A value is trying to be set on a copy of a slice from a DataFrame.\n",
      "Try using .loc[row_indexer,col_indexer] = value instead\n",
      "\n",
      "See the caveats in the documentation: https://pandas.pydata.org/pandas-docs/stable/user_guide/indexing.html#returning-a-view-versus-a-copy\n",
      "  chunk['predicted_rating'] = chunk['predicted_label'].apply(convert_label_to_rating)\n"
     ]
    },
    {
     "name": "stdout",
     "output_type": "stream",
     "text": [
      "Saved chunk 40 to CSV.\n"
     ]
    },
    {
     "name": "stderr",
     "output_type": "stream",
     "text": [
      "100%|██████████| 1000/1000 [08:46<00:00,  1.90it/s]\n",
      "/var/folders/9k/rnh189dj1_95w5p98sc88vbh0000gn/T/ipykernel_58829/3893720917.py:47: SettingWithCopyWarning: \n",
      "A value is trying to be set on a copy of a slice from a DataFrame.\n",
      "Try using .loc[row_indexer,col_indexer] = value instead\n",
      "\n",
      "See the caveats in the documentation: https://pandas.pydata.org/pandas-docs/stable/user_guide/indexing.html#returning-a-view-versus-a-copy\n",
      "  chunk['predicted_label'] = parallel_classify_texts(chunk['review_full'], num_threads)\n",
      "/var/folders/9k/rnh189dj1_95w5p98sc88vbh0000gn/T/ipykernel_58829/3893720917.py:60: SettingWithCopyWarning: \n",
      "A value is trying to be set on a copy of a slice from a DataFrame.\n",
      "Try using .loc[row_indexer,col_indexer] = value instead\n",
      "\n",
      "See the caveats in the documentation: https://pandas.pydata.org/pandas-docs/stable/user_guide/indexing.html#returning-a-view-versus-a-copy\n",
      "  chunk['predicted_rating'] = chunk['predicted_label'].apply(convert_label_to_rating)\n"
     ]
    },
    {
     "name": "stdout",
     "output_type": "stream",
     "text": [
      "Saved chunk 41 to CSV.\n"
     ]
    },
    {
     "name": "stderr",
     "output_type": "stream",
     "text": [
      "100%|██████████| 1000/1000 [09:18<00:00,  1.79it/s]\n",
      "/var/folders/9k/rnh189dj1_95w5p98sc88vbh0000gn/T/ipykernel_58829/3893720917.py:47: SettingWithCopyWarning: \n",
      "A value is trying to be set on a copy of a slice from a DataFrame.\n",
      "Try using .loc[row_indexer,col_indexer] = value instead\n",
      "\n",
      "See the caveats in the documentation: https://pandas.pydata.org/pandas-docs/stable/user_guide/indexing.html#returning-a-view-versus-a-copy\n",
      "  chunk['predicted_label'] = parallel_classify_texts(chunk['review_full'], num_threads)\n",
      "/var/folders/9k/rnh189dj1_95w5p98sc88vbh0000gn/T/ipykernel_58829/3893720917.py:60: SettingWithCopyWarning: \n",
      "A value is trying to be set on a copy of a slice from a DataFrame.\n",
      "Try using .loc[row_indexer,col_indexer] = value instead\n",
      "\n",
      "See the caveats in the documentation: https://pandas.pydata.org/pandas-docs/stable/user_guide/indexing.html#returning-a-view-versus-a-copy\n",
      "  chunk['predicted_rating'] = chunk['predicted_label'].apply(convert_label_to_rating)\n"
     ]
    },
    {
     "name": "stdout",
     "output_type": "stream",
     "text": [
      "Saved chunk 42 to CSV.\n"
     ]
    },
    {
     "name": "stderr",
     "output_type": "stream",
     "text": [
      "100%|██████████| 1000/1000 [08:43<00:00,  1.91it/s]\n",
      "/var/folders/9k/rnh189dj1_95w5p98sc88vbh0000gn/T/ipykernel_58829/3893720917.py:47: SettingWithCopyWarning: \n",
      "A value is trying to be set on a copy of a slice from a DataFrame.\n",
      "Try using .loc[row_indexer,col_indexer] = value instead\n",
      "\n",
      "See the caveats in the documentation: https://pandas.pydata.org/pandas-docs/stable/user_guide/indexing.html#returning-a-view-versus-a-copy\n",
      "  chunk['predicted_label'] = parallel_classify_texts(chunk['review_full'], num_threads)\n",
      "/var/folders/9k/rnh189dj1_95w5p98sc88vbh0000gn/T/ipykernel_58829/3893720917.py:60: SettingWithCopyWarning: \n",
      "A value is trying to be set on a copy of a slice from a DataFrame.\n",
      "Try using .loc[row_indexer,col_indexer] = value instead\n",
      "\n",
      "See the caveats in the documentation: https://pandas.pydata.org/pandas-docs/stable/user_guide/indexing.html#returning-a-view-versus-a-copy\n",
      "  chunk['predicted_rating'] = chunk['predicted_label'].apply(convert_label_to_rating)\n"
     ]
    },
    {
     "name": "stdout",
     "output_type": "stream",
     "text": [
      "Saved chunk 43 to CSV.\n"
     ]
    },
    {
     "name": "stderr",
     "output_type": "stream",
     "text": [
      "100%|██████████| 1000/1000 [08:40<00:00,  1.92it/s]\n",
      "/var/folders/9k/rnh189dj1_95w5p98sc88vbh0000gn/T/ipykernel_58829/3893720917.py:47: SettingWithCopyWarning: \n",
      "A value is trying to be set on a copy of a slice from a DataFrame.\n",
      "Try using .loc[row_indexer,col_indexer] = value instead\n",
      "\n",
      "See the caveats in the documentation: https://pandas.pydata.org/pandas-docs/stable/user_guide/indexing.html#returning-a-view-versus-a-copy\n",
      "  chunk['predicted_label'] = parallel_classify_texts(chunk['review_full'], num_threads)\n",
      "/var/folders/9k/rnh189dj1_95w5p98sc88vbh0000gn/T/ipykernel_58829/3893720917.py:60: SettingWithCopyWarning: \n",
      "A value is trying to be set on a copy of a slice from a DataFrame.\n",
      "Try using .loc[row_indexer,col_indexer] = value instead\n",
      "\n",
      "See the caveats in the documentation: https://pandas.pydata.org/pandas-docs/stable/user_guide/indexing.html#returning-a-view-versus-a-copy\n",
      "  chunk['predicted_rating'] = chunk['predicted_label'].apply(convert_label_to_rating)\n"
     ]
    },
    {
     "name": "stdout",
     "output_type": "stream",
     "text": [
      "Saved chunk 44 to CSV.\n"
     ]
    },
    {
     "name": "stderr",
     "output_type": "stream",
     "text": [
      "100%|██████████| 1000/1000 [08:23<00:00,  1.99it/s]\n",
      "/var/folders/9k/rnh189dj1_95w5p98sc88vbh0000gn/T/ipykernel_58829/3893720917.py:47: SettingWithCopyWarning: \n",
      "A value is trying to be set on a copy of a slice from a DataFrame.\n",
      "Try using .loc[row_indexer,col_indexer] = value instead\n",
      "\n",
      "See the caveats in the documentation: https://pandas.pydata.org/pandas-docs/stable/user_guide/indexing.html#returning-a-view-versus-a-copy\n",
      "  chunk['predicted_label'] = parallel_classify_texts(chunk['review_full'], num_threads)\n",
      "/var/folders/9k/rnh189dj1_95w5p98sc88vbh0000gn/T/ipykernel_58829/3893720917.py:60: SettingWithCopyWarning: \n",
      "A value is trying to be set on a copy of a slice from a DataFrame.\n",
      "Try using .loc[row_indexer,col_indexer] = value instead\n",
      "\n",
      "See the caveats in the documentation: https://pandas.pydata.org/pandas-docs/stable/user_guide/indexing.html#returning-a-view-versus-a-copy\n",
      "  chunk['predicted_rating'] = chunk['predicted_label'].apply(convert_label_to_rating)\n"
     ]
    },
    {
     "name": "stdout",
     "output_type": "stream",
     "text": [
      "Saved chunk 45 to CSV.\n"
     ]
    },
    {
     "name": "stderr",
     "output_type": "stream",
     "text": [
      "100%|██████████| 1000/1000 [08:38<00:00,  1.93it/s]\n",
      "/var/folders/9k/rnh189dj1_95w5p98sc88vbh0000gn/T/ipykernel_58829/3893720917.py:47: SettingWithCopyWarning: \n",
      "A value is trying to be set on a copy of a slice from a DataFrame.\n",
      "Try using .loc[row_indexer,col_indexer] = value instead\n",
      "\n",
      "See the caveats in the documentation: https://pandas.pydata.org/pandas-docs/stable/user_guide/indexing.html#returning-a-view-versus-a-copy\n",
      "  chunk['predicted_label'] = parallel_classify_texts(chunk['review_full'], num_threads)\n",
      "/var/folders/9k/rnh189dj1_95w5p98sc88vbh0000gn/T/ipykernel_58829/3893720917.py:60: SettingWithCopyWarning: \n",
      "A value is trying to be set on a copy of a slice from a DataFrame.\n",
      "Try using .loc[row_indexer,col_indexer] = value instead\n",
      "\n",
      "See the caveats in the documentation: https://pandas.pydata.org/pandas-docs/stable/user_guide/indexing.html#returning-a-view-versus-a-copy\n",
      "  chunk['predicted_rating'] = chunk['predicted_label'].apply(convert_label_to_rating)\n"
     ]
    },
    {
     "name": "stdout",
     "output_type": "stream",
     "text": [
      "Saved chunk 46 to CSV.\n"
     ]
    },
    {
     "name": "stderr",
     "output_type": "stream",
     "text": [
      "100%|██████████| 1000/1000 [08:48<00:00,  1.89it/s]\n",
      "/var/folders/9k/rnh189dj1_95w5p98sc88vbh0000gn/T/ipykernel_58829/3893720917.py:47: SettingWithCopyWarning: \n",
      "A value is trying to be set on a copy of a slice from a DataFrame.\n",
      "Try using .loc[row_indexer,col_indexer] = value instead\n",
      "\n",
      "See the caveats in the documentation: https://pandas.pydata.org/pandas-docs/stable/user_guide/indexing.html#returning-a-view-versus-a-copy\n",
      "  chunk['predicted_label'] = parallel_classify_texts(chunk['review_full'], num_threads)\n",
      "/var/folders/9k/rnh189dj1_95w5p98sc88vbh0000gn/T/ipykernel_58829/3893720917.py:60: SettingWithCopyWarning: \n",
      "A value is trying to be set on a copy of a slice from a DataFrame.\n",
      "Try using .loc[row_indexer,col_indexer] = value instead\n",
      "\n",
      "See the caveats in the documentation: https://pandas.pydata.org/pandas-docs/stable/user_guide/indexing.html#returning-a-view-versus-a-copy\n",
      "  chunk['predicted_rating'] = chunk['predicted_label'].apply(convert_label_to_rating)\n"
     ]
    },
    {
     "name": "stdout",
     "output_type": "stream",
     "text": [
      "Saved chunk 47 to CSV.\n"
     ]
    },
    {
     "name": "stderr",
     "output_type": "stream",
     "text": [
      "100%|██████████| 1000/1000 [08:30<00:00,  1.96it/s]\n",
      "/var/folders/9k/rnh189dj1_95w5p98sc88vbh0000gn/T/ipykernel_58829/3893720917.py:47: SettingWithCopyWarning: \n",
      "A value is trying to be set on a copy of a slice from a DataFrame.\n",
      "Try using .loc[row_indexer,col_indexer] = value instead\n",
      "\n",
      "See the caveats in the documentation: https://pandas.pydata.org/pandas-docs/stable/user_guide/indexing.html#returning-a-view-versus-a-copy\n",
      "  chunk['predicted_label'] = parallel_classify_texts(chunk['review_full'], num_threads)\n",
      "/var/folders/9k/rnh189dj1_95w5p98sc88vbh0000gn/T/ipykernel_58829/3893720917.py:60: SettingWithCopyWarning: \n",
      "A value is trying to be set on a copy of a slice from a DataFrame.\n",
      "Try using .loc[row_indexer,col_indexer] = value instead\n",
      "\n",
      "See the caveats in the documentation: https://pandas.pydata.org/pandas-docs/stable/user_guide/indexing.html#returning-a-view-versus-a-copy\n",
      "  chunk['predicted_rating'] = chunk['predicted_label'].apply(convert_label_to_rating)\n"
     ]
    },
    {
     "name": "stdout",
     "output_type": "stream",
     "text": [
      "Saved chunk 48 to CSV.\n"
     ]
    },
    {
     "name": "stderr",
     "output_type": "stream",
     "text": [
      "100%|██████████| 1000/1000 [08:08<00:00,  2.05it/s]\n",
      "/var/folders/9k/rnh189dj1_95w5p98sc88vbh0000gn/T/ipykernel_58829/3893720917.py:47: SettingWithCopyWarning: \n",
      "A value is trying to be set on a copy of a slice from a DataFrame.\n",
      "Try using .loc[row_indexer,col_indexer] = value instead\n",
      "\n",
      "See the caveats in the documentation: https://pandas.pydata.org/pandas-docs/stable/user_guide/indexing.html#returning-a-view-versus-a-copy\n",
      "  chunk['predicted_label'] = parallel_classify_texts(chunk['review_full'], num_threads)\n",
      "/var/folders/9k/rnh189dj1_95w5p98sc88vbh0000gn/T/ipykernel_58829/3893720917.py:60: SettingWithCopyWarning: \n",
      "A value is trying to be set on a copy of a slice from a DataFrame.\n",
      "Try using .loc[row_indexer,col_indexer] = value instead\n",
      "\n",
      "See the caveats in the documentation: https://pandas.pydata.org/pandas-docs/stable/user_guide/indexing.html#returning-a-view-versus-a-copy\n",
      "  chunk['predicted_rating'] = chunk['predicted_label'].apply(convert_label_to_rating)\n"
     ]
    },
    {
     "name": "stdout",
     "output_type": "stream",
     "text": [
      "Saved chunk 49 to CSV.\n"
     ]
    },
    {
     "name": "stderr",
     "output_type": "stream",
     "text": [
      "100%|██████████| 1000/1000 [08:26<00:00,  1.97it/s]\n",
      "/var/folders/9k/rnh189dj1_95w5p98sc88vbh0000gn/T/ipykernel_58829/3893720917.py:47: SettingWithCopyWarning: \n",
      "A value is trying to be set on a copy of a slice from a DataFrame.\n",
      "Try using .loc[row_indexer,col_indexer] = value instead\n",
      "\n",
      "See the caveats in the documentation: https://pandas.pydata.org/pandas-docs/stable/user_guide/indexing.html#returning-a-view-versus-a-copy\n",
      "  chunk['predicted_label'] = parallel_classify_texts(chunk['review_full'], num_threads)\n",
      "/var/folders/9k/rnh189dj1_95w5p98sc88vbh0000gn/T/ipykernel_58829/3893720917.py:60: SettingWithCopyWarning: \n",
      "A value is trying to be set on a copy of a slice from a DataFrame.\n",
      "Try using .loc[row_indexer,col_indexer] = value instead\n",
      "\n",
      "See the caveats in the documentation: https://pandas.pydata.org/pandas-docs/stable/user_guide/indexing.html#returning-a-view-versus-a-copy\n",
      "  chunk['predicted_rating'] = chunk['predicted_label'].apply(convert_label_to_rating)\n"
     ]
    },
    {
     "name": "stdout",
     "output_type": "stream",
     "text": [
      "Saved chunk 50 to CSV.\n"
     ]
    },
    {
     "name": "stderr",
     "output_type": "stream",
     "text": [
      "100%|██████████| 1000/1000 [08:26<00:00,  1.97it/s]\n",
      "/var/folders/9k/rnh189dj1_95w5p98sc88vbh0000gn/T/ipykernel_58829/3893720917.py:47: SettingWithCopyWarning: \n",
      "A value is trying to be set on a copy of a slice from a DataFrame.\n",
      "Try using .loc[row_indexer,col_indexer] = value instead\n",
      "\n",
      "See the caveats in the documentation: https://pandas.pydata.org/pandas-docs/stable/user_guide/indexing.html#returning-a-view-versus-a-copy\n",
      "  chunk['predicted_label'] = parallel_classify_texts(chunk['review_full'], num_threads)\n",
      "/var/folders/9k/rnh189dj1_95w5p98sc88vbh0000gn/T/ipykernel_58829/3893720917.py:60: SettingWithCopyWarning: \n",
      "A value is trying to be set on a copy of a slice from a DataFrame.\n",
      "Try using .loc[row_indexer,col_indexer] = value instead\n",
      "\n",
      "See the caveats in the documentation: https://pandas.pydata.org/pandas-docs/stable/user_guide/indexing.html#returning-a-view-versus-a-copy\n",
      "  chunk['predicted_rating'] = chunk['predicted_label'].apply(convert_label_to_rating)\n"
     ]
    },
    {
     "name": "stdout",
     "output_type": "stream",
     "text": [
      "Saved chunk 51 to CSV.\n"
     ]
    },
    {
     "name": "stderr",
     "output_type": "stream",
     "text": [
      "100%|██████████| 1000/1000 [08:16<00:00,  2.01it/s]\n",
      "/var/folders/9k/rnh189dj1_95w5p98sc88vbh0000gn/T/ipykernel_58829/3893720917.py:47: SettingWithCopyWarning: \n",
      "A value is trying to be set on a copy of a slice from a DataFrame.\n",
      "Try using .loc[row_indexer,col_indexer] = value instead\n",
      "\n",
      "See the caveats in the documentation: https://pandas.pydata.org/pandas-docs/stable/user_guide/indexing.html#returning-a-view-versus-a-copy\n",
      "  chunk['predicted_label'] = parallel_classify_texts(chunk['review_full'], num_threads)\n",
      "/var/folders/9k/rnh189dj1_95w5p98sc88vbh0000gn/T/ipykernel_58829/3893720917.py:60: SettingWithCopyWarning: \n",
      "A value is trying to be set on a copy of a slice from a DataFrame.\n",
      "Try using .loc[row_indexer,col_indexer] = value instead\n",
      "\n",
      "See the caveats in the documentation: https://pandas.pydata.org/pandas-docs/stable/user_guide/indexing.html#returning-a-view-versus-a-copy\n",
      "  chunk['predicted_rating'] = chunk['predicted_label'].apply(convert_label_to_rating)\n"
     ]
    },
    {
     "name": "stdout",
     "output_type": "stream",
     "text": [
      "Saved chunk 52 to CSV.\n"
     ]
    },
    {
     "name": "stderr",
     "output_type": "stream",
     "text": [
      "100%|██████████| 1000/1000 [08:03<00:00,  2.07it/s]\n",
      "/var/folders/9k/rnh189dj1_95w5p98sc88vbh0000gn/T/ipykernel_58829/3893720917.py:47: SettingWithCopyWarning: \n",
      "A value is trying to be set on a copy of a slice from a DataFrame.\n",
      "Try using .loc[row_indexer,col_indexer] = value instead\n",
      "\n",
      "See the caveats in the documentation: https://pandas.pydata.org/pandas-docs/stable/user_guide/indexing.html#returning-a-view-versus-a-copy\n",
      "  chunk['predicted_label'] = parallel_classify_texts(chunk['review_full'], num_threads)\n",
      "/var/folders/9k/rnh189dj1_95w5p98sc88vbh0000gn/T/ipykernel_58829/3893720917.py:60: SettingWithCopyWarning: \n",
      "A value is trying to be set on a copy of a slice from a DataFrame.\n",
      "Try using .loc[row_indexer,col_indexer] = value instead\n",
      "\n",
      "See the caveats in the documentation: https://pandas.pydata.org/pandas-docs/stable/user_guide/indexing.html#returning-a-view-versus-a-copy\n",
      "  chunk['predicted_rating'] = chunk['predicted_label'].apply(convert_label_to_rating)\n"
     ]
    },
    {
     "name": "stdout",
     "output_type": "stream",
     "text": [
      "Saved chunk 53 to CSV.\n"
     ]
    },
    {
     "name": "stderr",
     "output_type": "stream",
     "text": [
      "100%|██████████| 1000/1000 [08:05<00:00,  2.06it/s]\n",
      "/var/folders/9k/rnh189dj1_95w5p98sc88vbh0000gn/T/ipykernel_58829/3893720917.py:47: SettingWithCopyWarning: \n",
      "A value is trying to be set on a copy of a slice from a DataFrame.\n",
      "Try using .loc[row_indexer,col_indexer] = value instead\n",
      "\n",
      "See the caveats in the documentation: https://pandas.pydata.org/pandas-docs/stable/user_guide/indexing.html#returning-a-view-versus-a-copy\n",
      "  chunk['predicted_label'] = parallel_classify_texts(chunk['review_full'], num_threads)\n",
      "/var/folders/9k/rnh189dj1_95w5p98sc88vbh0000gn/T/ipykernel_58829/3893720917.py:60: SettingWithCopyWarning: \n",
      "A value is trying to be set on a copy of a slice from a DataFrame.\n",
      "Try using .loc[row_indexer,col_indexer] = value instead\n",
      "\n",
      "See the caveats in the documentation: https://pandas.pydata.org/pandas-docs/stable/user_guide/indexing.html#returning-a-view-versus-a-copy\n",
      "  chunk['predicted_rating'] = chunk['predicted_label'].apply(convert_label_to_rating)\n"
     ]
    },
    {
     "name": "stdout",
     "output_type": "stream",
     "text": [
      "Saved chunk 54 to CSV.\n"
     ]
    },
    {
     "name": "stderr",
     "output_type": "stream",
     "text": [
      "100%|██████████| 1000/1000 [07:55<00:00,  2.10it/s]\n",
      "/var/folders/9k/rnh189dj1_95w5p98sc88vbh0000gn/T/ipykernel_58829/3893720917.py:47: SettingWithCopyWarning: \n",
      "A value is trying to be set on a copy of a slice from a DataFrame.\n",
      "Try using .loc[row_indexer,col_indexer] = value instead\n",
      "\n",
      "See the caveats in the documentation: https://pandas.pydata.org/pandas-docs/stable/user_guide/indexing.html#returning-a-view-versus-a-copy\n",
      "  chunk['predicted_label'] = parallel_classify_texts(chunk['review_full'], num_threads)\n",
      "/var/folders/9k/rnh189dj1_95w5p98sc88vbh0000gn/T/ipykernel_58829/3893720917.py:60: SettingWithCopyWarning: \n",
      "A value is trying to be set on a copy of a slice from a DataFrame.\n",
      "Try using .loc[row_indexer,col_indexer] = value instead\n",
      "\n",
      "See the caveats in the documentation: https://pandas.pydata.org/pandas-docs/stable/user_guide/indexing.html#returning-a-view-versus-a-copy\n",
      "  chunk['predicted_rating'] = chunk['predicted_label'].apply(convert_label_to_rating)\n"
     ]
    },
    {
     "name": "stdout",
     "output_type": "stream",
     "text": [
      "Saved chunk 55 to CSV.\n"
     ]
    },
    {
     "name": "stderr",
     "output_type": "stream",
     "text": [
      "100%|██████████| 1000/1000 [08:26<00:00,  1.97it/s]\n",
      "/var/folders/9k/rnh189dj1_95w5p98sc88vbh0000gn/T/ipykernel_58829/3893720917.py:47: SettingWithCopyWarning: \n",
      "A value is trying to be set on a copy of a slice from a DataFrame.\n",
      "Try using .loc[row_indexer,col_indexer] = value instead\n",
      "\n",
      "See the caveats in the documentation: https://pandas.pydata.org/pandas-docs/stable/user_guide/indexing.html#returning-a-view-versus-a-copy\n",
      "  chunk['predicted_label'] = parallel_classify_texts(chunk['review_full'], num_threads)\n",
      "/var/folders/9k/rnh189dj1_95w5p98sc88vbh0000gn/T/ipykernel_58829/3893720917.py:60: SettingWithCopyWarning: \n",
      "A value is trying to be set on a copy of a slice from a DataFrame.\n",
      "Try using .loc[row_indexer,col_indexer] = value instead\n",
      "\n",
      "See the caveats in the documentation: https://pandas.pydata.org/pandas-docs/stable/user_guide/indexing.html#returning-a-view-versus-a-copy\n",
      "  chunk['predicted_rating'] = chunk['predicted_label'].apply(convert_label_to_rating)\n"
     ]
    },
    {
     "name": "stdout",
     "output_type": "stream",
     "text": [
      "Saved chunk 56 to CSV.\n"
     ]
    },
    {
     "name": "stderr",
     "output_type": "stream",
     "text": [
      "100%|██████████| 1000/1000 [08:31<00:00,  1.96it/s]\n",
      "/var/folders/9k/rnh189dj1_95w5p98sc88vbh0000gn/T/ipykernel_58829/3893720917.py:47: SettingWithCopyWarning: \n",
      "A value is trying to be set on a copy of a slice from a DataFrame.\n",
      "Try using .loc[row_indexer,col_indexer] = value instead\n",
      "\n",
      "See the caveats in the documentation: https://pandas.pydata.org/pandas-docs/stable/user_guide/indexing.html#returning-a-view-versus-a-copy\n",
      "  chunk['predicted_label'] = parallel_classify_texts(chunk['review_full'], num_threads)\n",
      "/var/folders/9k/rnh189dj1_95w5p98sc88vbh0000gn/T/ipykernel_58829/3893720917.py:60: SettingWithCopyWarning: \n",
      "A value is trying to be set on a copy of a slice from a DataFrame.\n",
      "Try using .loc[row_indexer,col_indexer] = value instead\n",
      "\n",
      "See the caveats in the documentation: https://pandas.pydata.org/pandas-docs/stable/user_guide/indexing.html#returning-a-view-versus-a-copy\n",
      "  chunk['predicted_rating'] = chunk['predicted_label'].apply(convert_label_to_rating)\n"
     ]
    },
    {
     "name": "stdout",
     "output_type": "stream",
     "text": [
      "Saved chunk 57 to CSV.\n"
     ]
    },
    {
     "name": "stderr",
     "output_type": "stream",
     "text": [
      "100%|██████████| 1000/1000 [08:17<00:00,  2.01it/s]\n",
      "/var/folders/9k/rnh189dj1_95w5p98sc88vbh0000gn/T/ipykernel_58829/3893720917.py:47: SettingWithCopyWarning: \n",
      "A value is trying to be set on a copy of a slice from a DataFrame.\n",
      "Try using .loc[row_indexer,col_indexer] = value instead\n",
      "\n",
      "See the caveats in the documentation: https://pandas.pydata.org/pandas-docs/stable/user_guide/indexing.html#returning-a-view-versus-a-copy\n",
      "  chunk['predicted_label'] = parallel_classify_texts(chunk['review_full'], num_threads)\n",
      "/var/folders/9k/rnh189dj1_95w5p98sc88vbh0000gn/T/ipykernel_58829/3893720917.py:60: SettingWithCopyWarning: \n",
      "A value is trying to be set on a copy of a slice from a DataFrame.\n",
      "Try using .loc[row_indexer,col_indexer] = value instead\n",
      "\n",
      "See the caveats in the documentation: https://pandas.pydata.org/pandas-docs/stable/user_guide/indexing.html#returning-a-view-versus-a-copy\n",
      "  chunk['predicted_rating'] = chunk['predicted_label'].apply(convert_label_to_rating)\n"
     ]
    },
    {
     "name": "stdout",
     "output_type": "stream",
     "text": [
      "Saved chunk 58 to CSV.\n"
     ]
    },
    {
     "name": "stderr",
     "output_type": "stream",
     "text": [
      "100%|██████████| 1000/1000 [08:46<00:00,  1.90it/s]\n",
      "/var/folders/9k/rnh189dj1_95w5p98sc88vbh0000gn/T/ipykernel_58829/3893720917.py:47: SettingWithCopyWarning: \n",
      "A value is trying to be set on a copy of a slice from a DataFrame.\n",
      "Try using .loc[row_indexer,col_indexer] = value instead\n",
      "\n",
      "See the caveats in the documentation: https://pandas.pydata.org/pandas-docs/stable/user_guide/indexing.html#returning-a-view-versus-a-copy\n",
      "  chunk['predicted_label'] = parallel_classify_texts(chunk['review_full'], num_threads)\n",
      "/var/folders/9k/rnh189dj1_95w5p98sc88vbh0000gn/T/ipykernel_58829/3893720917.py:60: SettingWithCopyWarning: \n",
      "A value is trying to be set on a copy of a slice from a DataFrame.\n",
      "Try using .loc[row_indexer,col_indexer] = value instead\n",
      "\n",
      "See the caveats in the documentation: https://pandas.pydata.org/pandas-docs/stable/user_guide/indexing.html#returning-a-view-versus-a-copy\n",
      "  chunk['predicted_rating'] = chunk['predicted_label'].apply(convert_label_to_rating)\n"
     ]
    },
    {
     "name": "stdout",
     "output_type": "stream",
     "text": [
      "Saved chunk 59 to CSV.\n"
     ]
    },
    {
     "name": "stderr",
     "output_type": "stream",
     "text": [
      "100%|██████████| 1000/1000 [08:23<00:00,  1.99it/s]\n",
      "/var/folders/9k/rnh189dj1_95w5p98sc88vbh0000gn/T/ipykernel_58829/3893720917.py:47: SettingWithCopyWarning: \n",
      "A value is trying to be set on a copy of a slice from a DataFrame.\n",
      "Try using .loc[row_indexer,col_indexer] = value instead\n",
      "\n",
      "See the caveats in the documentation: https://pandas.pydata.org/pandas-docs/stable/user_guide/indexing.html#returning-a-view-versus-a-copy\n",
      "  chunk['predicted_label'] = parallel_classify_texts(chunk['review_full'], num_threads)\n",
      "/var/folders/9k/rnh189dj1_95w5p98sc88vbh0000gn/T/ipykernel_58829/3893720917.py:60: SettingWithCopyWarning: \n",
      "A value is trying to be set on a copy of a slice from a DataFrame.\n",
      "Try using .loc[row_indexer,col_indexer] = value instead\n",
      "\n",
      "See the caveats in the documentation: https://pandas.pydata.org/pandas-docs/stable/user_guide/indexing.html#returning-a-view-versus-a-copy\n",
      "  chunk['predicted_rating'] = chunk['predicted_label'].apply(convert_label_to_rating)\n"
     ]
    },
    {
     "name": "stdout",
     "output_type": "stream",
     "text": [
      "Saved chunk 60 to CSV.\n"
     ]
    },
    {
     "name": "stderr",
     "output_type": "stream",
     "text": [
      "100%|██████████| 1000/1000 [08:19<00:00,  2.00it/s]\n",
      "/var/folders/9k/rnh189dj1_95w5p98sc88vbh0000gn/T/ipykernel_58829/3893720917.py:47: SettingWithCopyWarning: \n",
      "A value is trying to be set on a copy of a slice from a DataFrame.\n",
      "Try using .loc[row_indexer,col_indexer] = value instead\n",
      "\n",
      "See the caveats in the documentation: https://pandas.pydata.org/pandas-docs/stable/user_guide/indexing.html#returning-a-view-versus-a-copy\n",
      "  chunk['predicted_label'] = parallel_classify_texts(chunk['review_full'], num_threads)\n",
      "/var/folders/9k/rnh189dj1_95w5p98sc88vbh0000gn/T/ipykernel_58829/3893720917.py:60: SettingWithCopyWarning: \n",
      "A value is trying to be set on a copy of a slice from a DataFrame.\n",
      "Try using .loc[row_indexer,col_indexer] = value instead\n",
      "\n",
      "See the caveats in the documentation: https://pandas.pydata.org/pandas-docs/stable/user_guide/indexing.html#returning-a-view-versus-a-copy\n",
      "  chunk['predicted_rating'] = chunk['predicted_label'].apply(convert_label_to_rating)\n"
     ]
    },
    {
     "name": "stdout",
     "output_type": "stream",
     "text": [
      "Saved chunk 61 to CSV.\n"
     ]
    },
    {
     "name": "stderr",
     "output_type": "stream",
     "text": [
      "100%|██████████| 1000/1000 [08:27<00:00,  1.97it/s]\n",
      "/var/folders/9k/rnh189dj1_95w5p98sc88vbh0000gn/T/ipykernel_58829/3893720917.py:47: SettingWithCopyWarning: \n",
      "A value is trying to be set on a copy of a slice from a DataFrame.\n",
      "Try using .loc[row_indexer,col_indexer] = value instead\n",
      "\n",
      "See the caveats in the documentation: https://pandas.pydata.org/pandas-docs/stable/user_guide/indexing.html#returning-a-view-versus-a-copy\n",
      "  chunk['predicted_label'] = parallel_classify_texts(chunk['review_full'], num_threads)\n",
      "/var/folders/9k/rnh189dj1_95w5p98sc88vbh0000gn/T/ipykernel_58829/3893720917.py:60: SettingWithCopyWarning: \n",
      "A value is trying to be set on a copy of a slice from a DataFrame.\n",
      "Try using .loc[row_indexer,col_indexer] = value instead\n",
      "\n",
      "See the caveats in the documentation: https://pandas.pydata.org/pandas-docs/stable/user_guide/indexing.html#returning-a-view-versus-a-copy\n",
      "  chunk['predicted_rating'] = chunk['predicted_label'].apply(convert_label_to_rating)\n"
     ]
    },
    {
     "name": "stdout",
     "output_type": "stream",
     "text": [
      "Saved chunk 62 to CSV.\n"
     ]
    },
    {
     "name": "stderr",
     "output_type": "stream",
     "text": [
      "100%|██████████| 1000/1000 [08:25<00:00,  1.98it/s]\n",
      "/var/folders/9k/rnh189dj1_95w5p98sc88vbh0000gn/T/ipykernel_58829/3893720917.py:47: SettingWithCopyWarning: \n",
      "A value is trying to be set on a copy of a slice from a DataFrame.\n",
      "Try using .loc[row_indexer,col_indexer] = value instead\n",
      "\n",
      "See the caveats in the documentation: https://pandas.pydata.org/pandas-docs/stable/user_guide/indexing.html#returning-a-view-versus-a-copy\n",
      "  chunk['predicted_label'] = parallel_classify_texts(chunk['review_full'], num_threads)\n",
      "/var/folders/9k/rnh189dj1_95w5p98sc88vbh0000gn/T/ipykernel_58829/3893720917.py:60: SettingWithCopyWarning: \n",
      "A value is trying to be set on a copy of a slice from a DataFrame.\n",
      "Try using .loc[row_indexer,col_indexer] = value instead\n",
      "\n",
      "See the caveats in the documentation: https://pandas.pydata.org/pandas-docs/stable/user_guide/indexing.html#returning-a-view-versus-a-copy\n",
      "  chunk['predicted_rating'] = chunk['predicted_label'].apply(convert_label_to_rating)\n"
     ]
    },
    {
     "name": "stdout",
     "output_type": "stream",
     "text": [
      "Saved chunk 63 to CSV.\n"
     ]
    },
    {
     "name": "stderr",
     "output_type": "stream",
     "text": [
      "100%|██████████| 1000/1000 [08:28<00:00,  1.96it/s]\n",
      "/var/folders/9k/rnh189dj1_95w5p98sc88vbh0000gn/T/ipykernel_58829/3893720917.py:47: SettingWithCopyWarning: \n",
      "A value is trying to be set on a copy of a slice from a DataFrame.\n",
      "Try using .loc[row_indexer,col_indexer] = value instead\n",
      "\n",
      "See the caveats in the documentation: https://pandas.pydata.org/pandas-docs/stable/user_guide/indexing.html#returning-a-view-versus-a-copy\n",
      "  chunk['predicted_label'] = parallel_classify_texts(chunk['review_full'], num_threads)\n",
      "/var/folders/9k/rnh189dj1_95w5p98sc88vbh0000gn/T/ipykernel_58829/3893720917.py:60: SettingWithCopyWarning: \n",
      "A value is trying to be set on a copy of a slice from a DataFrame.\n",
      "Try using .loc[row_indexer,col_indexer] = value instead\n",
      "\n",
      "See the caveats in the documentation: https://pandas.pydata.org/pandas-docs/stable/user_guide/indexing.html#returning-a-view-versus-a-copy\n",
      "  chunk['predicted_rating'] = chunk['predicted_label'].apply(convert_label_to_rating)\n"
     ]
    },
    {
     "name": "stdout",
     "output_type": "stream",
     "text": [
      "Saved chunk 64 to CSV.\n"
     ]
    },
    {
     "name": "stderr",
     "output_type": "stream",
     "text": [
      "100%|██████████| 1000/1000 [08:26<00:00,  1.97it/s]\n",
      "/var/folders/9k/rnh189dj1_95w5p98sc88vbh0000gn/T/ipykernel_58829/3893720917.py:47: SettingWithCopyWarning: \n",
      "A value is trying to be set on a copy of a slice from a DataFrame.\n",
      "Try using .loc[row_indexer,col_indexer] = value instead\n",
      "\n",
      "See the caveats in the documentation: https://pandas.pydata.org/pandas-docs/stable/user_guide/indexing.html#returning-a-view-versus-a-copy\n",
      "  chunk['predicted_label'] = parallel_classify_texts(chunk['review_full'], num_threads)\n",
      "/var/folders/9k/rnh189dj1_95w5p98sc88vbh0000gn/T/ipykernel_58829/3893720917.py:60: SettingWithCopyWarning: \n",
      "A value is trying to be set on a copy of a slice from a DataFrame.\n",
      "Try using .loc[row_indexer,col_indexer] = value instead\n",
      "\n",
      "See the caveats in the documentation: https://pandas.pydata.org/pandas-docs/stable/user_guide/indexing.html#returning-a-view-versus-a-copy\n",
      "  chunk['predicted_rating'] = chunk['predicted_label'].apply(convert_label_to_rating)\n"
     ]
    },
    {
     "name": "stdout",
     "output_type": "stream",
     "text": [
      "Saved chunk 65 to CSV.\n"
     ]
    },
    {
     "name": "stderr",
     "output_type": "stream",
     "text": [
      "100%|██████████| 1000/1000 [08:31<00:00,  1.95it/s]\n",
      "/var/folders/9k/rnh189dj1_95w5p98sc88vbh0000gn/T/ipykernel_58829/3893720917.py:47: SettingWithCopyWarning: \n",
      "A value is trying to be set on a copy of a slice from a DataFrame.\n",
      "Try using .loc[row_indexer,col_indexer] = value instead\n",
      "\n",
      "See the caveats in the documentation: https://pandas.pydata.org/pandas-docs/stable/user_guide/indexing.html#returning-a-view-versus-a-copy\n",
      "  chunk['predicted_label'] = parallel_classify_texts(chunk['review_full'], num_threads)\n",
      "/var/folders/9k/rnh189dj1_95w5p98sc88vbh0000gn/T/ipykernel_58829/3893720917.py:60: SettingWithCopyWarning: \n",
      "A value is trying to be set on a copy of a slice from a DataFrame.\n",
      "Try using .loc[row_indexer,col_indexer] = value instead\n",
      "\n",
      "See the caveats in the documentation: https://pandas.pydata.org/pandas-docs/stable/user_guide/indexing.html#returning-a-view-versus-a-copy\n",
      "  chunk['predicted_rating'] = chunk['predicted_label'].apply(convert_label_to_rating)\n"
     ]
    },
    {
     "name": "stdout",
     "output_type": "stream",
     "text": [
      "Saved chunk 66 to CSV.\n"
     ]
    },
    {
     "name": "stderr",
     "output_type": "stream",
     "text": [
      "100%|██████████| 1000/1000 [08:46<00:00,  1.90it/s]\n",
      "/var/folders/9k/rnh189dj1_95w5p98sc88vbh0000gn/T/ipykernel_58829/3893720917.py:47: SettingWithCopyWarning: \n",
      "A value is trying to be set on a copy of a slice from a DataFrame.\n",
      "Try using .loc[row_indexer,col_indexer] = value instead\n",
      "\n",
      "See the caveats in the documentation: https://pandas.pydata.org/pandas-docs/stable/user_guide/indexing.html#returning-a-view-versus-a-copy\n",
      "  chunk['predicted_label'] = parallel_classify_texts(chunk['review_full'], num_threads)\n",
      "/var/folders/9k/rnh189dj1_95w5p98sc88vbh0000gn/T/ipykernel_58829/3893720917.py:60: SettingWithCopyWarning: \n",
      "A value is trying to be set on a copy of a slice from a DataFrame.\n",
      "Try using .loc[row_indexer,col_indexer] = value instead\n",
      "\n",
      "See the caveats in the documentation: https://pandas.pydata.org/pandas-docs/stable/user_guide/indexing.html#returning-a-view-versus-a-copy\n",
      "  chunk['predicted_rating'] = chunk['predicted_label'].apply(convert_label_to_rating)\n"
     ]
    },
    {
     "name": "stdout",
     "output_type": "stream",
     "text": [
      "Saved chunk 67 to CSV.\n"
     ]
    },
    {
     "name": "stderr",
     "output_type": "stream",
     "text": [
      "100%|██████████| 1000/1000 [08:45<00:00,  1.90it/s]\n",
      "/var/folders/9k/rnh189dj1_95w5p98sc88vbh0000gn/T/ipykernel_58829/3893720917.py:47: SettingWithCopyWarning: \n",
      "A value is trying to be set on a copy of a slice from a DataFrame.\n",
      "Try using .loc[row_indexer,col_indexer] = value instead\n",
      "\n",
      "See the caveats in the documentation: https://pandas.pydata.org/pandas-docs/stable/user_guide/indexing.html#returning-a-view-versus-a-copy\n",
      "  chunk['predicted_label'] = parallel_classify_texts(chunk['review_full'], num_threads)\n",
      "/var/folders/9k/rnh189dj1_95w5p98sc88vbh0000gn/T/ipykernel_58829/3893720917.py:60: SettingWithCopyWarning: \n",
      "A value is trying to be set on a copy of a slice from a DataFrame.\n",
      "Try using .loc[row_indexer,col_indexer] = value instead\n",
      "\n",
      "See the caveats in the documentation: https://pandas.pydata.org/pandas-docs/stable/user_guide/indexing.html#returning-a-view-versus-a-copy\n",
      "  chunk['predicted_rating'] = chunk['predicted_label'].apply(convert_label_to_rating)\n"
     ]
    },
    {
     "name": "stdout",
     "output_type": "stream",
     "text": [
      "Saved chunk 68 to CSV.\n"
     ]
    },
    {
     "name": "stderr",
     "output_type": "stream",
     "text": [
      "100%|██████████| 1000/1000 [08:21<00:00,  1.99it/s]\n",
      "/var/folders/9k/rnh189dj1_95w5p98sc88vbh0000gn/T/ipykernel_58829/3893720917.py:47: SettingWithCopyWarning: \n",
      "A value is trying to be set on a copy of a slice from a DataFrame.\n",
      "Try using .loc[row_indexer,col_indexer] = value instead\n",
      "\n",
      "See the caveats in the documentation: https://pandas.pydata.org/pandas-docs/stable/user_guide/indexing.html#returning-a-view-versus-a-copy\n",
      "  chunk['predicted_label'] = parallel_classify_texts(chunk['review_full'], num_threads)\n",
      "/var/folders/9k/rnh189dj1_95w5p98sc88vbh0000gn/T/ipykernel_58829/3893720917.py:60: SettingWithCopyWarning: \n",
      "A value is trying to be set on a copy of a slice from a DataFrame.\n",
      "Try using .loc[row_indexer,col_indexer] = value instead\n",
      "\n",
      "See the caveats in the documentation: https://pandas.pydata.org/pandas-docs/stable/user_guide/indexing.html#returning-a-view-versus-a-copy\n",
      "  chunk['predicted_rating'] = chunk['predicted_label'].apply(convert_label_to_rating)\n"
     ]
    },
    {
     "name": "stdout",
     "output_type": "stream",
     "text": [
      "Saved chunk 69 to CSV.\n"
     ]
    },
    {
     "name": "stderr",
     "output_type": "stream",
     "text": [
      "100%|██████████| 1000/1000 [08:34<00:00,  1.94it/s]\n",
      "/var/folders/9k/rnh189dj1_95w5p98sc88vbh0000gn/T/ipykernel_58829/3893720917.py:47: SettingWithCopyWarning: \n",
      "A value is trying to be set on a copy of a slice from a DataFrame.\n",
      "Try using .loc[row_indexer,col_indexer] = value instead\n",
      "\n",
      "See the caveats in the documentation: https://pandas.pydata.org/pandas-docs/stable/user_guide/indexing.html#returning-a-view-versus-a-copy\n",
      "  chunk['predicted_label'] = parallel_classify_texts(chunk['review_full'], num_threads)\n",
      "/var/folders/9k/rnh189dj1_95w5p98sc88vbh0000gn/T/ipykernel_58829/3893720917.py:60: SettingWithCopyWarning: \n",
      "A value is trying to be set on a copy of a slice from a DataFrame.\n",
      "Try using .loc[row_indexer,col_indexer] = value instead\n",
      "\n",
      "See the caveats in the documentation: https://pandas.pydata.org/pandas-docs/stable/user_guide/indexing.html#returning-a-view-versus-a-copy\n",
      "  chunk['predicted_rating'] = chunk['predicted_label'].apply(convert_label_to_rating)\n"
     ]
    },
    {
     "name": "stdout",
     "output_type": "stream",
     "text": [
      "Saved chunk 70 to CSV.\n"
     ]
    },
    {
     "name": "stderr",
     "output_type": "stream",
     "text": [
      "100%|██████████| 1000/1000 [08:38<00:00,  1.93it/s]\n",
      "/var/folders/9k/rnh189dj1_95w5p98sc88vbh0000gn/T/ipykernel_58829/3893720917.py:47: SettingWithCopyWarning: \n",
      "A value is trying to be set on a copy of a slice from a DataFrame.\n",
      "Try using .loc[row_indexer,col_indexer] = value instead\n",
      "\n",
      "See the caveats in the documentation: https://pandas.pydata.org/pandas-docs/stable/user_guide/indexing.html#returning-a-view-versus-a-copy\n",
      "  chunk['predicted_label'] = parallel_classify_texts(chunk['review_full'], num_threads)\n",
      "/var/folders/9k/rnh189dj1_95w5p98sc88vbh0000gn/T/ipykernel_58829/3893720917.py:60: SettingWithCopyWarning: \n",
      "A value is trying to be set on a copy of a slice from a DataFrame.\n",
      "Try using .loc[row_indexer,col_indexer] = value instead\n",
      "\n",
      "See the caveats in the documentation: https://pandas.pydata.org/pandas-docs/stable/user_guide/indexing.html#returning-a-view-versus-a-copy\n",
      "  chunk['predicted_rating'] = chunk['predicted_label'].apply(convert_label_to_rating)\n"
     ]
    },
    {
     "name": "stdout",
     "output_type": "stream",
     "text": [
      "Saved chunk 71 to CSV.\n"
     ]
    },
    {
     "name": "stderr",
     "output_type": "stream",
     "text": [
      "100%|██████████| 1000/1000 [08:34<00:00,  1.94it/s]\n",
      "/var/folders/9k/rnh189dj1_95w5p98sc88vbh0000gn/T/ipykernel_58829/3893720917.py:47: SettingWithCopyWarning: \n",
      "A value is trying to be set on a copy of a slice from a DataFrame.\n",
      "Try using .loc[row_indexer,col_indexer] = value instead\n",
      "\n",
      "See the caveats in the documentation: https://pandas.pydata.org/pandas-docs/stable/user_guide/indexing.html#returning-a-view-versus-a-copy\n",
      "  chunk['predicted_label'] = parallel_classify_texts(chunk['review_full'], num_threads)\n",
      "/var/folders/9k/rnh189dj1_95w5p98sc88vbh0000gn/T/ipykernel_58829/3893720917.py:60: SettingWithCopyWarning: \n",
      "A value is trying to be set on a copy of a slice from a DataFrame.\n",
      "Try using .loc[row_indexer,col_indexer] = value instead\n",
      "\n",
      "See the caveats in the documentation: https://pandas.pydata.org/pandas-docs/stable/user_guide/indexing.html#returning-a-view-versus-a-copy\n",
      "  chunk['predicted_rating'] = chunk['predicted_label'].apply(convert_label_to_rating)\n"
     ]
    },
    {
     "name": "stdout",
     "output_type": "stream",
     "text": [
      "Saved chunk 72 to CSV.\n"
     ]
    },
    {
     "name": "stderr",
     "output_type": "stream",
     "text": [
      "100%|██████████| 1000/1000 [08:43<00:00,  1.91it/s]\n",
      "/var/folders/9k/rnh189dj1_95w5p98sc88vbh0000gn/T/ipykernel_58829/3893720917.py:47: SettingWithCopyWarning: \n",
      "A value is trying to be set on a copy of a slice from a DataFrame.\n",
      "Try using .loc[row_indexer,col_indexer] = value instead\n",
      "\n",
      "See the caveats in the documentation: https://pandas.pydata.org/pandas-docs/stable/user_guide/indexing.html#returning-a-view-versus-a-copy\n",
      "  chunk['predicted_label'] = parallel_classify_texts(chunk['review_full'], num_threads)\n",
      "/var/folders/9k/rnh189dj1_95w5p98sc88vbh0000gn/T/ipykernel_58829/3893720917.py:60: SettingWithCopyWarning: \n",
      "A value is trying to be set on a copy of a slice from a DataFrame.\n",
      "Try using .loc[row_indexer,col_indexer] = value instead\n",
      "\n",
      "See the caveats in the documentation: https://pandas.pydata.org/pandas-docs/stable/user_guide/indexing.html#returning-a-view-versus-a-copy\n",
      "  chunk['predicted_rating'] = chunk['predicted_label'].apply(convert_label_to_rating)\n"
     ]
    },
    {
     "name": "stdout",
     "output_type": "stream",
     "text": [
      "Saved chunk 73 to CSV.\n"
     ]
    },
    {
     "name": "stderr",
     "output_type": "stream",
     "text": [
      "100%|██████████| 1000/1000 [08:27<00:00,  1.97it/s]\n",
      "/var/folders/9k/rnh189dj1_95w5p98sc88vbh0000gn/T/ipykernel_58829/3893720917.py:47: SettingWithCopyWarning: \n",
      "A value is trying to be set on a copy of a slice from a DataFrame.\n",
      "Try using .loc[row_indexer,col_indexer] = value instead\n",
      "\n",
      "See the caveats in the documentation: https://pandas.pydata.org/pandas-docs/stable/user_guide/indexing.html#returning-a-view-versus-a-copy\n",
      "  chunk['predicted_label'] = parallel_classify_texts(chunk['review_full'], num_threads)\n",
      "/var/folders/9k/rnh189dj1_95w5p98sc88vbh0000gn/T/ipykernel_58829/3893720917.py:60: SettingWithCopyWarning: \n",
      "A value is trying to be set on a copy of a slice from a DataFrame.\n",
      "Try using .loc[row_indexer,col_indexer] = value instead\n",
      "\n",
      "See the caveats in the documentation: https://pandas.pydata.org/pandas-docs/stable/user_guide/indexing.html#returning-a-view-versus-a-copy\n",
      "  chunk['predicted_rating'] = chunk['predicted_label'].apply(convert_label_to_rating)\n"
     ]
    },
    {
     "name": "stdout",
     "output_type": "stream",
     "text": [
      "Saved chunk 74 to CSV.\n"
     ]
    },
    {
     "name": "stderr",
     "output_type": "stream",
     "text": [
      "100%|██████████| 1000/1000 [08:43<00:00,  1.91it/s]\n",
      "/var/folders/9k/rnh189dj1_95w5p98sc88vbh0000gn/T/ipykernel_58829/3893720917.py:47: SettingWithCopyWarning: \n",
      "A value is trying to be set on a copy of a slice from a DataFrame.\n",
      "Try using .loc[row_indexer,col_indexer] = value instead\n",
      "\n",
      "See the caveats in the documentation: https://pandas.pydata.org/pandas-docs/stable/user_guide/indexing.html#returning-a-view-versus-a-copy\n",
      "  chunk['predicted_label'] = parallel_classify_texts(chunk['review_full'], num_threads)\n",
      "/var/folders/9k/rnh189dj1_95w5p98sc88vbh0000gn/T/ipykernel_58829/3893720917.py:60: SettingWithCopyWarning: \n",
      "A value is trying to be set on a copy of a slice from a DataFrame.\n",
      "Try using .loc[row_indexer,col_indexer] = value instead\n",
      "\n",
      "See the caveats in the documentation: https://pandas.pydata.org/pandas-docs/stable/user_guide/indexing.html#returning-a-view-versus-a-copy\n",
      "  chunk['predicted_rating'] = chunk['predicted_label'].apply(convert_label_to_rating)\n"
     ]
    },
    {
     "name": "stdout",
     "output_type": "stream",
     "text": [
      "Saved chunk 75 to CSV.\n"
     ]
    },
    {
     "name": "stderr",
     "output_type": "stream",
     "text": [
      "100%|██████████| 1000/1000 [08:51<00:00,  1.88it/s]\n",
      "/var/folders/9k/rnh189dj1_95w5p98sc88vbh0000gn/T/ipykernel_58829/3893720917.py:47: SettingWithCopyWarning: \n",
      "A value is trying to be set on a copy of a slice from a DataFrame.\n",
      "Try using .loc[row_indexer,col_indexer] = value instead\n",
      "\n",
      "See the caveats in the documentation: https://pandas.pydata.org/pandas-docs/stable/user_guide/indexing.html#returning-a-view-versus-a-copy\n",
      "  chunk['predicted_label'] = parallel_classify_texts(chunk['review_full'], num_threads)\n",
      "/var/folders/9k/rnh189dj1_95w5p98sc88vbh0000gn/T/ipykernel_58829/3893720917.py:60: SettingWithCopyWarning: \n",
      "A value is trying to be set on a copy of a slice from a DataFrame.\n",
      "Try using .loc[row_indexer,col_indexer] = value instead\n",
      "\n",
      "See the caveats in the documentation: https://pandas.pydata.org/pandas-docs/stable/user_guide/indexing.html#returning-a-view-versus-a-copy\n",
      "  chunk['predicted_rating'] = chunk['predicted_label'].apply(convert_label_to_rating)\n"
     ]
    },
    {
     "name": "stdout",
     "output_type": "stream",
     "text": [
      "Saved chunk 76 to CSV.\n"
     ]
    },
    {
     "name": "stderr",
     "output_type": "stream",
     "text": [
      "100%|██████████| 1000/1000 [08:42<00:00,  1.91it/s]\n",
      "/var/folders/9k/rnh189dj1_95w5p98sc88vbh0000gn/T/ipykernel_58829/3893720917.py:47: SettingWithCopyWarning: \n",
      "A value is trying to be set on a copy of a slice from a DataFrame.\n",
      "Try using .loc[row_indexer,col_indexer] = value instead\n",
      "\n",
      "See the caveats in the documentation: https://pandas.pydata.org/pandas-docs/stable/user_guide/indexing.html#returning-a-view-versus-a-copy\n",
      "  chunk['predicted_label'] = parallel_classify_texts(chunk['review_full'], num_threads)\n",
      "/var/folders/9k/rnh189dj1_95w5p98sc88vbh0000gn/T/ipykernel_58829/3893720917.py:60: SettingWithCopyWarning: \n",
      "A value is trying to be set on a copy of a slice from a DataFrame.\n",
      "Try using .loc[row_indexer,col_indexer] = value instead\n",
      "\n",
      "See the caveats in the documentation: https://pandas.pydata.org/pandas-docs/stable/user_guide/indexing.html#returning-a-view-versus-a-copy\n",
      "  chunk['predicted_rating'] = chunk['predicted_label'].apply(convert_label_to_rating)\n"
     ]
    },
    {
     "name": "stdout",
     "output_type": "stream",
     "text": [
      "Saved chunk 77 to CSV.\n"
     ]
    },
    {
     "name": "stderr",
     "output_type": "stream",
     "text": [
      "100%|██████████| 1000/1000 [08:22<00:00,  1.99it/s]\n",
      "/var/folders/9k/rnh189dj1_95w5p98sc88vbh0000gn/T/ipykernel_58829/3893720917.py:47: SettingWithCopyWarning: \n",
      "A value is trying to be set on a copy of a slice from a DataFrame.\n",
      "Try using .loc[row_indexer,col_indexer] = value instead\n",
      "\n",
      "See the caveats in the documentation: https://pandas.pydata.org/pandas-docs/stable/user_guide/indexing.html#returning-a-view-versus-a-copy\n",
      "  chunk['predicted_label'] = parallel_classify_texts(chunk['review_full'], num_threads)\n",
      "/var/folders/9k/rnh189dj1_95w5p98sc88vbh0000gn/T/ipykernel_58829/3893720917.py:60: SettingWithCopyWarning: \n",
      "A value is trying to be set on a copy of a slice from a DataFrame.\n",
      "Try using .loc[row_indexer,col_indexer] = value instead\n",
      "\n",
      "See the caveats in the documentation: https://pandas.pydata.org/pandas-docs/stable/user_guide/indexing.html#returning-a-view-versus-a-copy\n",
      "  chunk['predicted_rating'] = chunk['predicted_label'].apply(convert_label_to_rating)\n"
     ]
    },
    {
     "name": "stdout",
     "output_type": "stream",
     "text": [
      "Saved chunk 78 to CSV.\n"
     ]
    },
    {
     "name": "stderr",
     "output_type": "stream",
     "text": [
      "100%|██████████| 1000/1000 [08:57<00:00,  1.86it/s]\n",
      "/var/folders/9k/rnh189dj1_95w5p98sc88vbh0000gn/T/ipykernel_58829/3893720917.py:47: SettingWithCopyWarning: \n",
      "A value is trying to be set on a copy of a slice from a DataFrame.\n",
      "Try using .loc[row_indexer,col_indexer] = value instead\n",
      "\n",
      "See the caveats in the documentation: https://pandas.pydata.org/pandas-docs/stable/user_guide/indexing.html#returning-a-view-versus-a-copy\n",
      "  chunk['predicted_label'] = parallel_classify_texts(chunk['review_full'], num_threads)\n",
      "/var/folders/9k/rnh189dj1_95w5p98sc88vbh0000gn/T/ipykernel_58829/3893720917.py:60: SettingWithCopyWarning: \n",
      "A value is trying to be set on a copy of a slice from a DataFrame.\n",
      "Try using .loc[row_indexer,col_indexer] = value instead\n",
      "\n",
      "See the caveats in the documentation: https://pandas.pydata.org/pandas-docs/stable/user_guide/indexing.html#returning-a-view-versus-a-copy\n",
      "  chunk['predicted_rating'] = chunk['predicted_label'].apply(convert_label_to_rating)\n"
     ]
    },
    {
     "name": "stdout",
     "output_type": "stream",
     "text": [
      "Saved chunk 79 to CSV.\n"
     ]
    },
    {
     "name": "stderr",
     "output_type": "stream",
     "text": [
      "100%|██████████| 1000/1000 [08:35<00:00,  1.94it/s]\n",
      "/var/folders/9k/rnh189dj1_95w5p98sc88vbh0000gn/T/ipykernel_58829/3893720917.py:47: SettingWithCopyWarning: \n",
      "A value is trying to be set on a copy of a slice from a DataFrame.\n",
      "Try using .loc[row_indexer,col_indexer] = value instead\n",
      "\n",
      "See the caveats in the documentation: https://pandas.pydata.org/pandas-docs/stable/user_guide/indexing.html#returning-a-view-versus-a-copy\n",
      "  chunk['predicted_label'] = parallel_classify_texts(chunk['review_full'], num_threads)\n",
      "/var/folders/9k/rnh189dj1_95w5p98sc88vbh0000gn/T/ipykernel_58829/3893720917.py:60: SettingWithCopyWarning: \n",
      "A value is trying to be set on a copy of a slice from a DataFrame.\n",
      "Try using .loc[row_indexer,col_indexer] = value instead\n",
      "\n",
      "See the caveats in the documentation: https://pandas.pydata.org/pandas-docs/stable/user_guide/indexing.html#returning-a-view-versus-a-copy\n",
      "  chunk['predicted_rating'] = chunk['predicted_label'].apply(convert_label_to_rating)\n"
     ]
    },
    {
     "name": "stdout",
     "output_type": "stream",
     "text": [
      "Saved chunk 80 to CSV.\n"
     ]
    },
    {
     "name": "stderr",
     "output_type": "stream",
     "text": [
      "100%|██████████| 1000/1000 [08:28<00:00,  1.97it/s]\n",
      "/var/folders/9k/rnh189dj1_95w5p98sc88vbh0000gn/T/ipykernel_58829/3893720917.py:47: SettingWithCopyWarning: \n",
      "A value is trying to be set on a copy of a slice from a DataFrame.\n",
      "Try using .loc[row_indexer,col_indexer] = value instead\n",
      "\n",
      "See the caveats in the documentation: https://pandas.pydata.org/pandas-docs/stable/user_guide/indexing.html#returning-a-view-versus-a-copy\n",
      "  chunk['predicted_label'] = parallel_classify_texts(chunk['review_full'], num_threads)\n",
      "/var/folders/9k/rnh189dj1_95w5p98sc88vbh0000gn/T/ipykernel_58829/3893720917.py:60: SettingWithCopyWarning: \n",
      "A value is trying to be set on a copy of a slice from a DataFrame.\n",
      "Try using .loc[row_indexer,col_indexer] = value instead\n",
      "\n",
      "See the caveats in the documentation: https://pandas.pydata.org/pandas-docs/stable/user_guide/indexing.html#returning-a-view-versus-a-copy\n",
      "  chunk['predicted_rating'] = chunk['predicted_label'].apply(convert_label_to_rating)\n"
     ]
    },
    {
     "name": "stdout",
     "output_type": "stream",
     "text": [
      "Saved chunk 81 to CSV.\n"
     ]
    },
    {
     "name": "stderr",
     "output_type": "stream",
     "text": [
      "100%|██████████| 1000/1000 [08:41<00:00,  1.92it/s]\n",
      "/var/folders/9k/rnh189dj1_95w5p98sc88vbh0000gn/T/ipykernel_58829/3893720917.py:47: SettingWithCopyWarning: \n",
      "A value is trying to be set on a copy of a slice from a DataFrame.\n",
      "Try using .loc[row_indexer,col_indexer] = value instead\n",
      "\n",
      "See the caveats in the documentation: https://pandas.pydata.org/pandas-docs/stable/user_guide/indexing.html#returning-a-view-versus-a-copy\n",
      "  chunk['predicted_label'] = parallel_classify_texts(chunk['review_full'], num_threads)\n",
      "/var/folders/9k/rnh189dj1_95w5p98sc88vbh0000gn/T/ipykernel_58829/3893720917.py:60: SettingWithCopyWarning: \n",
      "A value is trying to be set on a copy of a slice from a DataFrame.\n",
      "Try using .loc[row_indexer,col_indexer] = value instead\n",
      "\n",
      "See the caveats in the documentation: https://pandas.pydata.org/pandas-docs/stable/user_guide/indexing.html#returning-a-view-versus-a-copy\n",
      "  chunk['predicted_rating'] = chunk['predicted_label'].apply(convert_label_to_rating)\n"
     ]
    },
    {
     "name": "stdout",
     "output_type": "stream",
     "text": [
      "Saved chunk 82 to CSV.\n"
     ]
    },
    {
     "name": "stderr",
     "output_type": "stream",
     "text": [
      "100%|██████████| 1000/1000 [08:35<00:00,  1.94it/s]\n",
      "/var/folders/9k/rnh189dj1_95w5p98sc88vbh0000gn/T/ipykernel_58829/3893720917.py:47: SettingWithCopyWarning: \n",
      "A value is trying to be set on a copy of a slice from a DataFrame.\n",
      "Try using .loc[row_indexer,col_indexer] = value instead\n",
      "\n",
      "See the caveats in the documentation: https://pandas.pydata.org/pandas-docs/stable/user_guide/indexing.html#returning-a-view-versus-a-copy\n",
      "  chunk['predicted_label'] = parallel_classify_texts(chunk['review_full'], num_threads)\n",
      "/var/folders/9k/rnh189dj1_95w5p98sc88vbh0000gn/T/ipykernel_58829/3893720917.py:60: SettingWithCopyWarning: \n",
      "A value is trying to be set on a copy of a slice from a DataFrame.\n",
      "Try using .loc[row_indexer,col_indexer] = value instead\n",
      "\n",
      "See the caveats in the documentation: https://pandas.pydata.org/pandas-docs/stable/user_guide/indexing.html#returning-a-view-versus-a-copy\n",
      "  chunk['predicted_rating'] = chunk['predicted_label'].apply(convert_label_to_rating)\n"
     ]
    },
    {
     "name": "stdout",
     "output_type": "stream",
     "text": [
      "Saved chunk 83 to CSV.\n"
     ]
    },
    {
     "name": "stderr",
     "output_type": "stream",
     "text": [
      "100%|██████████| 1000/1000 [08:24<00:00,  1.98it/s]\n",
      "/var/folders/9k/rnh189dj1_95w5p98sc88vbh0000gn/T/ipykernel_58829/3893720917.py:47: SettingWithCopyWarning: \n",
      "A value is trying to be set on a copy of a slice from a DataFrame.\n",
      "Try using .loc[row_indexer,col_indexer] = value instead\n",
      "\n",
      "See the caveats in the documentation: https://pandas.pydata.org/pandas-docs/stable/user_guide/indexing.html#returning-a-view-versus-a-copy\n",
      "  chunk['predicted_label'] = parallel_classify_texts(chunk['review_full'], num_threads)\n",
      "/var/folders/9k/rnh189dj1_95w5p98sc88vbh0000gn/T/ipykernel_58829/3893720917.py:60: SettingWithCopyWarning: \n",
      "A value is trying to be set on a copy of a slice from a DataFrame.\n",
      "Try using .loc[row_indexer,col_indexer] = value instead\n",
      "\n",
      "See the caveats in the documentation: https://pandas.pydata.org/pandas-docs/stable/user_guide/indexing.html#returning-a-view-versus-a-copy\n",
      "  chunk['predicted_rating'] = chunk['predicted_label'].apply(convert_label_to_rating)\n"
     ]
    },
    {
     "name": "stdout",
     "output_type": "stream",
     "text": [
      "Saved chunk 84 to CSV.\n"
     ]
    },
    {
     "name": "stderr",
     "output_type": "stream",
     "text": [
      "100%|██████████| 1000/1000 [08:25<00:00,  1.98it/s]\n",
      "/var/folders/9k/rnh189dj1_95w5p98sc88vbh0000gn/T/ipykernel_58829/3893720917.py:47: SettingWithCopyWarning: \n",
      "A value is trying to be set on a copy of a slice from a DataFrame.\n",
      "Try using .loc[row_indexer,col_indexer] = value instead\n",
      "\n",
      "See the caveats in the documentation: https://pandas.pydata.org/pandas-docs/stable/user_guide/indexing.html#returning-a-view-versus-a-copy\n",
      "  chunk['predicted_label'] = parallel_classify_texts(chunk['review_full'], num_threads)\n",
      "/var/folders/9k/rnh189dj1_95w5p98sc88vbh0000gn/T/ipykernel_58829/3893720917.py:60: SettingWithCopyWarning: \n",
      "A value is trying to be set on a copy of a slice from a DataFrame.\n",
      "Try using .loc[row_indexer,col_indexer] = value instead\n",
      "\n",
      "See the caveats in the documentation: https://pandas.pydata.org/pandas-docs/stable/user_guide/indexing.html#returning-a-view-versus-a-copy\n",
      "  chunk['predicted_rating'] = chunk['predicted_label'].apply(convert_label_to_rating)\n"
     ]
    },
    {
     "name": "stdout",
     "output_type": "stream",
     "text": [
      "Saved chunk 85 to CSV.\n"
     ]
    },
    {
     "name": "stderr",
     "output_type": "stream",
     "text": [
      "100%|██████████| 1000/1000 [08:24<00:00,  1.98it/s]\n",
      "/var/folders/9k/rnh189dj1_95w5p98sc88vbh0000gn/T/ipykernel_58829/3893720917.py:47: SettingWithCopyWarning: \n",
      "A value is trying to be set on a copy of a slice from a DataFrame.\n",
      "Try using .loc[row_indexer,col_indexer] = value instead\n",
      "\n",
      "See the caveats in the documentation: https://pandas.pydata.org/pandas-docs/stable/user_guide/indexing.html#returning-a-view-versus-a-copy\n",
      "  chunk['predicted_label'] = parallel_classify_texts(chunk['review_full'], num_threads)\n",
      "/var/folders/9k/rnh189dj1_95w5p98sc88vbh0000gn/T/ipykernel_58829/3893720917.py:60: SettingWithCopyWarning: \n",
      "A value is trying to be set on a copy of a slice from a DataFrame.\n",
      "Try using .loc[row_indexer,col_indexer] = value instead\n",
      "\n",
      "See the caveats in the documentation: https://pandas.pydata.org/pandas-docs/stable/user_guide/indexing.html#returning-a-view-versus-a-copy\n",
      "  chunk['predicted_rating'] = chunk['predicted_label'].apply(convert_label_to_rating)\n"
     ]
    },
    {
     "name": "stdout",
     "output_type": "stream",
     "text": [
      "Saved chunk 86 to CSV.\n"
     ]
    },
    {
     "name": "stderr",
     "output_type": "stream",
     "text": [
      "100%|██████████| 1000/1000 [08:19<00:00,  2.00it/s]\n",
      "/var/folders/9k/rnh189dj1_95w5p98sc88vbh0000gn/T/ipykernel_58829/3893720917.py:47: SettingWithCopyWarning: \n",
      "A value is trying to be set on a copy of a slice from a DataFrame.\n",
      "Try using .loc[row_indexer,col_indexer] = value instead\n",
      "\n",
      "See the caveats in the documentation: https://pandas.pydata.org/pandas-docs/stable/user_guide/indexing.html#returning-a-view-versus-a-copy\n",
      "  chunk['predicted_label'] = parallel_classify_texts(chunk['review_full'], num_threads)\n",
      "/var/folders/9k/rnh189dj1_95w5p98sc88vbh0000gn/T/ipykernel_58829/3893720917.py:60: SettingWithCopyWarning: \n",
      "A value is trying to be set on a copy of a slice from a DataFrame.\n",
      "Try using .loc[row_indexer,col_indexer] = value instead\n",
      "\n",
      "See the caveats in the documentation: https://pandas.pydata.org/pandas-docs/stable/user_guide/indexing.html#returning-a-view-versus-a-copy\n",
      "  chunk['predicted_rating'] = chunk['predicted_label'].apply(convert_label_to_rating)\n"
     ]
    },
    {
     "name": "stdout",
     "output_type": "stream",
     "text": [
      "Saved chunk 87 to CSV.\n"
     ]
    },
    {
     "name": "stderr",
     "output_type": "stream",
     "text": [
      "100%|██████████| 424/424 [03:42<00:00,  1.90it/s]"
     ]
    },
    {
     "name": "stdout",
     "output_type": "stream",
     "text": [
      "Saved chunk 88 to CSV.\n"
     ]
    },
    {
     "name": "stderr",
     "output_type": "stream",
     "text": [
      "\n",
      "/var/folders/9k/rnh189dj1_95w5p98sc88vbh0000gn/T/ipykernel_58829/3893720917.py:47: SettingWithCopyWarning: \n",
      "A value is trying to be set on a copy of a slice from a DataFrame.\n",
      "Try using .loc[row_indexer,col_indexer] = value instead\n",
      "\n",
      "See the caveats in the documentation: https://pandas.pydata.org/pandas-docs/stable/user_guide/indexing.html#returning-a-view-versus-a-copy\n",
      "  chunk['predicted_label'] = parallel_classify_texts(chunk['review_full'], num_threads)\n",
      "/var/folders/9k/rnh189dj1_95w5p98sc88vbh0000gn/T/ipykernel_58829/3893720917.py:60: SettingWithCopyWarning: \n",
      "A value is trying to be set on a copy of a slice from a DataFrame.\n",
      "Try using .loc[row_indexer,col_indexer] = value instead\n",
      "\n",
      "See the caveats in the documentation: https://pandas.pydata.org/pandas-docs/stable/user_guide/indexing.html#returning-a-view-versus-a-copy\n",
      "  chunk['predicted_rating'] = chunk['predicted_label'].apply(convert_label_to_rating)\n"
     ]
    }
   ],
   "source": [
    "import pandas as pd\n",
    "from transformers import pipeline\n",
    "from tqdm import tqdm\n",
    "import concurrent.futures\n",
    "import psutil\n",
    "import os\n",
    "\n",
    "# Define the zero-shot classification pipeline using RoBERTa\n",
    "classifier = pipeline(\"zero-shot-classification\", model=\"roberta-large-mnli\")\n",
    "\n",
    "# Define the labels for classification\n",
    "labels = [\"very bad review\", \"bad review\", \"average review\", \"good review\", \"very good review\"]\n",
    "\n",
    "# Function to classify a single piece of text\n",
    "def classify_text(text):\n",
    "    result = classifier(text, labels)\n",
    "    return result['labels'][0]  # The label with the highest score\n",
    "\n",
    "# Check available memory\n",
    "def get_available_memory():\n",
    "    process = psutil.Process(os.getpid())\n",
    "    mem_info = process.memory_info()\n",
    "    return mem_info.rss / (1024 ** 2)  # Return memory usage in MB\n",
    "\n",
    "# Assuming `data_cleaned` is your DataFrame with a column 'clean_text'\n",
    "# Define chunk size\n",
    "chunk_size = 1000  # Adjust as needed\n",
    "\n",
    "# Number of threads to use (adjust as needed)\n",
    "num_threads = 4  # Use a small number of threads to limit CPU usage\n",
    "\n",
    "# Wrap your pandas apply with tqdm for a progress bar\n",
    "tqdm.pandas()\n",
    "\n",
    "# Function to classify text in parallel\n",
    "def parallel_classify_texts(texts, num_threads):\n",
    "    with concurrent.futures.ThreadPoolExecutor(max_workers=num_threads) as executor:\n",
    "        results = list(tqdm(executor.map(classify_text, texts), total=len(texts)))\n",
    "    return results\n",
    "\n",
    "# Process the DataFrame in chunks and save each chunk to a CSV\n",
    "def process_and_save_chunks(data, chunk_size, num_threads, output_dir):\n",
    "    os.makedirs(output_dir, exist_ok=True)  # Create the output directory if it doesn't exist\n",
    "    chunks = [data[i:i + chunk_size] for i in range(0, data.shape[0], chunk_size)]\n",
    "\n",
    "    for i, chunk in enumerate(chunks):\n",
    "        chunk['predicted_label'] = parallel_classify_texts(chunk['review_full'], num_threads)\n",
    "\n",
    "        # Optionally, convert labels to ratings\n",
    "        def convert_label_to_rating(label):\n",
    "            label_to_rating = {\n",
    "                \"very bad review\": 1,\n",
    "                \"bad review\": 2,\n",
    "                \"average review\": 3,\n",
    "                \"good review\": 4,\n",
    "                \"very good review\": 5\n",
    "            }\n",
    "            return label_to_rating[label]\n",
    "\n",
    "        chunk['predicted_rating'] = chunk['predicted_label'].apply(convert_label_to_rating)\n",
    "\n",
    "        # Save the chunk to a CSV file\n",
    "        chunk.to_csv(os.path.join(output_dir, f'chunk_{i}.csv'), index=False)\n",
    "\n",
    "        # Print progress\n",
    "        print(f'Saved chunk {i} to CSV.')\n",
    "\n",
    "# Assuming `data_cleaned` is your DataFrame with a column 'clean_text'\n",
    "process_and_save_chunks(data_cleaned, chunk_size, num_threads, output_dir='processed_chunks_RoBERTa_lde')"
   ]
  },
  {
   "cell_type": "code",
   "execution_count": 13,
   "metadata": {},
   "outputs": [
    {
     "name": "stderr",
     "output_type": "stream",
     "text": [
      "Some weights of the model checkpoint at roberta-large-mnli were not used when initializing RobertaForSequenceClassification: ['roberta.pooler.dense.bias', 'roberta.pooler.dense.weight']\n",
      "- This IS expected if you are initializing RobertaForSequenceClassification from the checkpoint of a model trained on another task or with another architecture (e.g. initializing a BertForSequenceClassification model from a BertForPreTraining model).\n",
      "- This IS NOT expected if you are initializing RobertaForSequenceClassification from the checkpoint of a model that you expect to be exactly identical (initializing a BertForSequenceClassification model from a BertForSequenceClassification model).\n"
     ]
    },
    {
     "name": "stdout",
     "output_type": "stream",
     "text": [
      "Processing file: processed_chunks_RoBERTa_lde/chunk_49.csv\n"
     ]
    },
    {
     "name": "stderr",
     "output_type": "stream",
     "text": [
      "100%|██████████| 1000/1000 [17:54<00:00,  1.07s/it]\n",
      "/var/folders/9k/rnh189dj1_95w5p98sc88vbh0000gn/T/ipykernel_58829/4206096860.py:47: SettingWithCopyWarning: \n",
      "A value is trying to be set on a copy of a slice from a DataFrame.\n",
      "Try using .loc[row_indexer,col_indexer] = value instead\n",
      "\n",
      "See the caveats in the documentation: https://pandas.pydata.org/pandas-docs/stable/user_guide/indexing.html#returning-a-view-versus-a-copy\n",
      "  chunk['predicted_cuisine'] = parallel_classify_texts(chunk, num_threads)\n"
     ]
    },
    {
     "name": "stdout",
     "output_type": "stream",
     "text": [
      "Saved chunk 0 of chunk_49.csv to CSV.\n",
      "Processing file: processed_chunks_RoBERTa_lde/chunk_17.csv\n"
     ]
    },
    {
     "name": "stderr",
     "output_type": "stream",
     "text": [
      "100%|██████████| 1000/1000 [16:27<00:00,  1.01it/s]\n",
      "/var/folders/9k/rnh189dj1_95w5p98sc88vbh0000gn/T/ipykernel_58829/4206096860.py:47: SettingWithCopyWarning: \n",
      "A value is trying to be set on a copy of a slice from a DataFrame.\n",
      "Try using .loc[row_indexer,col_indexer] = value instead\n",
      "\n",
      "See the caveats in the documentation: https://pandas.pydata.org/pandas-docs/stable/user_guide/indexing.html#returning-a-view-versus-a-copy\n",
      "  chunk['predicted_cuisine'] = parallel_classify_texts(chunk, num_threads)\n"
     ]
    },
    {
     "name": "stdout",
     "output_type": "stream",
     "text": [
      "Saved chunk 0 of chunk_17.csv to CSV.\n",
      "Processing file: processed_chunks_RoBERTa_lde/chunk_16.csv\n"
     ]
    },
    {
     "name": "stderr",
     "output_type": "stream",
     "text": [
      "100%|██████████| 1000/1000 [17:29<00:00,  1.05s/it]\n",
      "/var/folders/9k/rnh189dj1_95w5p98sc88vbh0000gn/T/ipykernel_58829/4206096860.py:47: SettingWithCopyWarning: \n",
      "A value is trying to be set on a copy of a slice from a DataFrame.\n",
      "Try using .loc[row_indexer,col_indexer] = value instead\n",
      "\n",
      "See the caveats in the documentation: https://pandas.pydata.org/pandas-docs/stable/user_guide/indexing.html#returning-a-view-versus-a-copy\n",
      "  chunk['predicted_cuisine'] = parallel_classify_texts(chunk, num_threads)\n"
     ]
    },
    {
     "name": "stdout",
     "output_type": "stream",
     "text": [
      "Saved chunk 0 of chunk_16.csv to CSV.\n",
      "Processing file: processed_chunks_RoBERTa_lde/chunk_28.csv\n"
     ]
    },
    {
     "name": "stderr",
     "output_type": "stream",
     "text": [
      "100%|██████████| 1000/1000 [18:34<00:00,  1.11s/it]\n",
      "/var/folders/9k/rnh189dj1_95w5p98sc88vbh0000gn/T/ipykernel_58829/4206096860.py:47: SettingWithCopyWarning: \n",
      "A value is trying to be set on a copy of a slice from a DataFrame.\n",
      "Try using .loc[row_indexer,col_indexer] = value instead\n",
      "\n",
      "See the caveats in the documentation: https://pandas.pydata.org/pandas-docs/stable/user_guide/indexing.html#returning-a-view-versus-a-copy\n",
      "  chunk['predicted_cuisine'] = parallel_classify_texts(chunk, num_threads)\n"
     ]
    },
    {
     "name": "stdout",
     "output_type": "stream",
     "text": [
      "Saved chunk 0 of chunk_28.csv to CSV.\n",
      "Processing file: processed_chunks_RoBERTa_lde/chunk_14.csv\n"
     ]
    },
    {
     "name": "stderr",
     "output_type": "stream",
     "text": [
      "100%|██████████| 1000/1000 [16:41<00:00,  1.00s/it]\n",
      "/var/folders/9k/rnh189dj1_95w5p98sc88vbh0000gn/T/ipykernel_58829/4206096860.py:47: SettingWithCopyWarning: \n",
      "A value is trying to be set on a copy of a slice from a DataFrame.\n",
      "Try using .loc[row_indexer,col_indexer] = value instead\n",
      "\n",
      "See the caveats in the documentation: https://pandas.pydata.org/pandas-docs/stable/user_guide/indexing.html#returning-a-view-versus-a-copy\n",
      "  chunk['predicted_cuisine'] = parallel_classify_texts(chunk, num_threads)\n"
     ]
    },
    {
     "name": "stdout",
     "output_type": "stream",
     "text": [
      "Saved chunk 0 of chunk_14.csv to CSV.\n",
      "Processing file: processed_chunks_RoBERTa_lde/chunk_15.csv\n"
     ]
    },
    {
     "name": "stderr",
     "output_type": "stream",
     "text": [
      "100%|██████████| 1000/1000 [17:29<00:00,  1.05s/it]\n",
      "/var/folders/9k/rnh189dj1_95w5p98sc88vbh0000gn/T/ipykernel_58829/4206096860.py:47: SettingWithCopyWarning: \n",
      "A value is trying to be set on a copy of a slice from a DataFrame.\n",
      "Try using .loc[row_indexer,col_indexer] = value instead\n",
      "\n",
      "See the caveats in the documentation: https://pandas.pydata.org/pandas-docs/stable/user_guide/indexing.html#returning-a-view-versus-a-copy\n",
      "  chunk['predicted_cuisine'] = parallel_classify_texts(chunk, num_threads)\n"
     ]
    },
    {
     "name": "stdout",
     "output_type": "stream",
     "text": [
      "Saved chunk 0 of chunk_15.csv to CSV.\n",
      "Processing file: processed_chunks_RoBERTa_lde/chunk_29.csv\n"
     ]
    },
    {
     "name": "stderr",
     "output_type": "stream",
     "text": [
      "100%|██████████| 1000/1000 [19:08<00:00,  1.15s/it]\n",
      "/var/folders/9k/rnh189dj1_95w5p98sc88vbh0000gn/T/ipykernel_58829/4206096860.py:47: SettingWithCopyWarning: \n",
      "A value is trying to be set on a copy of a slice from a DataFrame.\n",
      "Try using .loc[row_indexer,col_indexer] = value instead\n",
      "\n",
      "See the caveats in the documentation: https://pandas.pydata.org/pandas-docs/stable/user_guide/indexing.html#returning-a-view-versus-a-copy\n",
      "  chunk['predicted_cuisine'] = parallel_classify_texts(chunk, num_threads)\n"
     ]
    },
    {
     "name": "stdout",
     "output_type": "stream",
     "text": [
      "Saved chunk 0 of chunk_29.csv to CSV.\n",
      "Processing file: processed_chunks_RoBERTa_lde/chunk_11.csv\n"
     ]
    },
    {
     "name": "stderr",
     "output_type": "stream",
     "text": [
      "100%|██████████| 1000/1000 [18:13<00:00,  1.09s/it]\n",
      "/var/folders/9k/rnh189dj1_95w5p98sc88vbh0000gn/T/ipykernel_58829/4206096860.py:47: SettingWithCopyWarning: \n",
      "A value is trying to be set on a copy of a slice from a DataFrame.\n",
      "Try using .loc[row_indexer,col_indexer] = value instead\n",
      "\n",
      "See the caveats in the documentation: https://pandas.pydata.org/pandas-docs/stable/user_guide/indexing.html#returning-a-view-versus-a-copy\n",
      "  chunk['predicted_cuisine'] = parallel_classify_texts(chunk, num_threads)\n"
     ]
    },
    {
     "name": "stdout",
     "output_type": "stream",
     "text": [
      "Saved chunk 0 of chunk_11.csv to CSV.\n",
      "Processing file: processed_chunks_RoBERTa_lde/chunk_39.csv\n"
     ]
    },
    {
     "name": "stderr",
     "output_type": "stream",
     "text": [
      "100%|██████████| 1000/1000 [18:05<00:00,  1.09s/it]\n",
      "/var/folders/9k/rnh189dj1_95w5p98sc88vbh0000gn/T/ipykernel_58829/4206096860.py:47: SettingWithCopyWarning: \n",
      "A value is trying to be set on a copy of a slice from a DataFrame.\n",
      "Try using .loc[row_indexer,col_indexer] = value instead\n",
      "\n",
      "See the caveats in the documentation: https://pandas.pydata.org/pandas-docs/stable/user_guide/indexing.html#returning-a-view-versus-a-copy\n",
      "  chunk['predicted_cuisine'] = parallel_classify_texts(chunk, num_threads)\n"
     ]
    },
    {
     "name": "stdout",
     "output_type": "stream",
     "text": [
      "Saved chunk 0 of chunk_39.csv to CSV.\n",
      "Processing file: processed_chunks_RoBERTa_lde/chunk_38.csv\n"
     ]
    },
    {
     "name": "stderr",
     "output_type": "stream",
     "text": [
      "100%|██████████| 1000/1000 [18:26<00:00,  1.11s/it]\n",
      "/var/folders/9k/rnh189dj1_95w5p98sc88vbh0000gn/T/ipykernel_58829/4206096860.py:47: SettingWithCopyWarning: \n",
      "A value is trying to be set on a copy of a slice from a DataFrame.\n",
      "Try using .loc[row_indexer,col_indexer] = value instead\n",
      "\n",
      "See the caveats in the documentation: https://pandas.pydata.org/pandas-docs/stable/user_guide/indexing.html#returning-a-view-versus-a-copy\n",
      "  chunk['predicted_cuisine'] = parallel_classify_texts(chunk, num_threads)\n"
     ]
    },
    {
     "name": "stdout",
     "output_type": "stream",
     "text": [
      "Saved chunk 0 of chunk_38.csv to CSV.\n",
      "Processing file: processed_chunks_RoBERTa_lde/chunk_10.csv\n"
     ]
    },
    {
     "name": "stderr",
     "output_type": "stream",
     "text": [
      "100%|██████████| 1000/1000 [18:29<00:00,  1.11s/it]\n",
      "/var/folders/9k/rnh189dj1_95w5p98sc88vbh0000gn/T/ipykernel_58829/4206096860.py:47: SettingWithCopyWarning: \n",
      "A value is trying to be set on a copy of a slice from a DataFrame.\n",
      "Try using .loc[row_indexer,col_indexer] = value instead\n",
      "\n",
      "See the caveats in the documentation: https://pandas.pydata.org/pandas-docs/stable/user_guide/indexing.html#returning-a-view-versus-a-copy\n",
      "  chunk['predicted_cuisine'] = parallel_classify_texts(chunk, num_threads)\n"
     ]
    },
    {
     "name": "stdout",
     "output_type": "stream",
     "text": [
      "Saved chunk 0 of chunk_10.csv to CSV.\n",
      "Processing file: processed_chunks_RoBERTa_lde/chunk_12.csv\n"
     ]
    },
    {
     "name": "stderr",
     "output_type": "stream",
     "text": [
      "100%|██████████| 1000/1000 [17:50<00:00,  1.07s/it]\n",
      "/var/folders/9k/rnh189dj1_95w5p98sc88vbh0000gn/T/ipykernel_58829/4206096860.py:47: SettingWithCopyWarning: \n",
      "A value is trying to be set on a copy of a slice from a DataFrame.\n",
      "Try using .loc[row_indexer,col_indexer] = value instead\n",
      "\n",
      "See the caveats in the documentation: https://pandas.pydata.org/pandas-docs/stable/user_guide/indexing.html#returning-a-view-versus-a-copy\n",
      "  chunk['predicted_cuisine'] = parallel_classify_texts(chunk, num_threads)\n"
     ]
    },
    {
     "name": "stdout",
     "output_type": "stream",
     "text": [
      "Saved chunk 0 of chunk_12.csv to CSV.\n",
      "Processing file: processed_chunks_RoBERTa_lde/chunk_13.csv\n"
     ]
    },
    {
     "name": "stderr",
     "output_type": "stream",
     "text": [
      "100%|██████████| 1000/1000 [17:41<00:00,  1.06s/it]\n",
      "/var/folders/9k/rnh189dj1_95w5p98sc88vbh0000gn/T/ipykernel_58829/4206096860.py:47: SettingWithCopyWarning: \n",
      "A value is trying to be set on a copy of a slice from a DataFrame.\n",
      "Try using .loc[row_indexer,col_indexer] = value instead\n",
      "\n",
      "See the caveats in the documentation: https://pandas.pydata.org/pandas-docs/stable/user_guide/indexing.html#returning-a-view-versus-a-copy\n",
      "  chunk['predicted_cuisine'] = parallel_classify_texts(chunk, num_threads)\n"
     ]
    },
    {
     "name": "stdout",
     "output_type": "stream",
     "text": [
      "Saved chunk 0 of chunk_13.csv to CSV.\n",
      "Processing file: processed_chunks_RoBERTa_lde/chunk_36.csv\n"
     ]
    },
    {
     "name": "stderr",
     "output_type": "stream",
     "text": [
      " 33%|███▎      | 327/1000 [06:09<12:40,  1.13s/it]\n"
     ]
    },
    {
     "ename": "KeyboardInterrupt",
     "evalue": "",
     "output_type": "error",
     "traceback": [
      "\u001b[0;31m---------------------------------------------------------------------------\u001b[0m",
      "\u001b[0;31mKeyboardInterrupt\u001b[0m                         Traceback (most recent call last)",
      "Cell \u001b[0;32mIn[13], line 68\u001b[0m\n\u001b[1;32m     65\u001b[0m output_dir \u001b[38;5;241m=\u001b[39m \u001b[38;5;124m'\u001b[39m\u001b[38;5;124mprocessed_chunks_RoBERTa_cuisine\u001b[39m\u001b[38;5;124m'\u001b[39m\n\u001b[1;32m     67\u001b[0m \u001b[38;5;66;03m# Process all CSV files in the input directory\u001b[39;00m\n\u001b[0;32m---> 68\u001b[0m \u001b[43mprocess_all_csvs\u001b[49m\u001b[43m(\u001b[49m\u001b[43minput_dir\u001b[49m\u001b[43m,\u001b[49m\u001b[43m \u001b[49m\u001b[43moutput_dir\u001b[49m\u001b[43m)\u001b[49m\n",
      "Cell \u001b[0;32mIn[13], line 61\u001b[0m, in \u001b[0;36mprocess_all_csvs\u001b[0;34m(input_dir, output_dir)\u001b[0m\n\u001b[1;32m     59\u001b[0m \u001b[38;5;28mprint\u001b[39m(\u001b[38;5;124mf\u001b[39m\u001b[38;5;124m'\u001b[39m\u001b[38;5;124mProcessing file: \u001b[39m\u001b[38;5;132;01m{\u001b[39;00mfile_path\u001b[38;5;132;01m}\u001b[39;00m\u001b[38;5;124m'\u001b[39m)\n\u001b[1;32m     60\u001b[0m data \u001b[38;5;241m=\u001b[39m pd\u001b[38;5;241m.\u001b[39mread_csv(file_path)\n\u001b[0;32m---> 61\u001b[0m \u001b[43mprocess_and_save_chunks\u001b[49m\u001b[43m(\u001b[49m\u001b[43mdata\u001b[49m\u001b[43m,\u001b[49m\u001b[43m \u001b[49m\u001b[43mchunk_size\u001b[49m\u001b[43m,\u001b[49m\u001b[43m \u001b[49m\u001b[43mnum_threads\u001b[49m\u001b[43m,\u001b[49m\u001b[43m \u001b[49m\u001b[43moutput_dir\u001b[49m\u001b[43m,\u001b[49m\u001b[43m \u001b[49m\u001b[43mfile_name\u001b[49m\u001b[43m)\u001b[49m\n",
      "Cell \u001b[0;32mIn[13], line 47\u001b[0m, in \u001b[0;36mprocess_and_save_chunks\u001b[0;34m(data, chunk_size, num_threads, output_dir, file_name)\u001b[0m\n\u001b[1;32m     44\u001b[0m chunks \u001b[38;5;241m=\u001b[39m [data[i:i \u001b[38;5;241m+\u001b[39m chunk_size] \u001b[38;5;28;01mfor\u001b[39;00m i \u001b[38;5;129;01min\u001b[39;00m \u001b[38;5;28mrange\u001b[39m(\u001b[38;5;241m0\u001b[39m, data\u001b[38;5;241m.\u001b[39mshape[\u001b[38;5;241m0\u001b[39m], chunk_size)]\n\u001b[1;32m     46\u001b[0m \u001b[38;5;28;01mfor\u001b[39;00m i, chunk \u001b[38;5;129;01min\u001b[39;00m \u001b[38;5;28menumerate\u001b[39m(chunks):\n\u001b[0;32m---> 47\u001b[0m     chunk[\u001b[38;5;124m'\u001b[39m\u001b[38;5;124mpredicted_cuisine\u001b[39m\u001b[38;5;124m'\u001b[39m] \u001b[38;5;241m=\u001b[39m \u001b[43mparallel_classify_texts\u001b[49m\u001b[43m(\u001b[49m\u001b[43mchunk\u001b[49m\u001b[43m,\u001b[49m\u001b[43m \u001b[49m\u001b[43mnum_threads\u001b[49m\u001b[43m)\u001b[49m\n\u001b[1;32m     48\u001b[0m     output_file_path \u001b[38;5;241m=\u001b[39m os\u001b[38;5;241m.\u001b[39mpath\u001b[38;5;241m.\u001b[39mjoin(output_dir, \u001b[38;5;124mf\u001b[39m\u001b[38;5;124m'\u001b[39m\u001b[38;5;132;01m{\u001b[39;00mos\u001b[38;5;241m.\u001b[39mpath\u001b[38;5;241m.\u001b[39msplitext(file_name)[\u001b[38;5;241m0\u001b[39m]\u001b[38;5;132;01m}\u001b[39;00m\u001b[38;5;124m_chunk_\u001b[39m\u001b[38;5;132;01m{\u001b[39;00mi\u001b[38;5;132;01m}\u001b[39;00m\u001b[38;5;124m.csv\u001b[39m\u001b[38;5;124m'\u001b[39m)\n\u001b[1;32m     49\u001b[0m     \u001b[38;5;66;03m# Save the chunk to a CSV file\u001b[39;00m\n",
      "Cell \u001b[0;32mIn[13], line 38\u001b[0m, in \u001b[0;36mparallel_classify_texts\u001b[0;34m(df, num_threads)\u001b[0m\n\u001b[1;32m     36\u001b[0m \u001b[38;5;28;01mdef\u001b[39;00m \u001b[38;5;21mparallel_classify_texts\u001b[39m(df, num_threads):\n\u001b[1;32m     37\u001b[0m     \u001b[38;5;28;01mwith\u001b[39;00m concurrent\u001b[38;5;241m.\u001b[39mfutures\u001b[38;5;241m.\u001b[39mThreadPoolExecutor(max_workers\u001b[38;5;241m=\u001b[39mnum_threads) \u001b[38;5;28;01mas\u001b[39;00m executor:\n\u001b[0;32m---> 38\u001b[0m         results \u001b[38;5;241m=\u001b[39m \u001b[38;5;28mlist\u001b[39m(tqdm(executor\u001b[38;5;241m.\u001b[39mmap(classify_text, [row \u001b[38;5;28;01mfor\u001b[39;00m _, row \u001b[38;5;129;01min\u001b[39;00m df\u001b[38;5;241m.\u001b[39miterrows()]), total\u001b[38;5;241m=\u001b[39m\u001b[38;5;28mlen\u001b[39m(df)))\n\u001b[1;32m     39\u001b[0m     \u001b[38;5;28;01mreturn\u001b[39;00m results\n",
      "File \u001b[0;32m~/anaconda3/envs/NLP/lib/python3.11/site-packages/tqdm/std.py:1181\u001b[0m, in \u001b[0;36mtqdm.__iter__\u001b[0;34m(self)\u001b[0m\n\u001b[1;32m   1178\u001b[0m time \u001b[38;5;241m=\u001b[39m \u001b[38;5;28mself\u001b[39m\u001b[38;5;241m.\u001b[39m_time\n\u001b[1;32m   1180\u001b[0m \u001b[38;5;28;01mtry\u001b[39;00m:\n\u001b[0;32m-> 1181\u001b[0m \u001b[43m    \u001b[49m\u001b[38;5;28;43;01mfor\u001b[39;49;00m\u001b[43m \u001b[49m\u001b[43mobj\u001b[49m\u001b[43m \u001b[49m\u001b[38;5;129;43;01min\u001b[39;49;00m\u001b[43m \u001b[49m\u001b[43miterable\u001b[49m\u001b[43m:\u001b[49m\n\u001b[1;32m   1182\u001b[0m \u001b[43m        \u001b[49m\u001b[38;5;28;43;01myield\u001b[39;49;00m\u001b[43m \u001b[49m\u001b[43mobj\u001b[49m\n\u001b[1;32m   1183\u001b[0m \u001b[43m        \u001b[49m\u001b[38;5;66;43;03m# Update and possibly print the progressbar.\u001b[39;49;00m\n\u001b[1;32m   1184\u001b[0m \u001b[43m        \u001b[49m\u001b[38;5;66;43;03m# Note: does not call self.update(1) for speed optimisation.\u001b[39;49;00m\n",
      "File \u001b[0;32m~/anaconda3/envs/NLP/lib/python3.11/concurrent/futures/_base.py:619\u001b[0m, in \u001b[0;36mExecutor.map.<locals>.result_iterator\u001b[0;34m()\u001b[0m\n\u001b[1;32m    616\u001b[0m \u001b[38;5;28;01mwhile\u001b[39;00m fs:\n\u001b[1;32m    617\u001b[0m     \u001b[38;5;66;03m# Careful not to keep a reference to the popped future\u001b[39;00m\n\u001b[1;32m    618\u001b[0m     \u001b[38;5;28;01mif\u001b[39;00m timeout \u001b[38;5;129;01mis\u001b[39;00m \u001b[38;5;28;01mNone\u001b[39;00m:\n\u001b[0;32m--> 619\u001b[0m         \u001b[38;5;28;01myield\u001b[39;00m \u001b[43m_result_or_cancel\u001b[49m\u001b[43m(\u001b[49m\u001b[43mfs\u001b[49m\u001b[38;5;241;43m.\u001b[39;49m\u001b[43mpop\u001b[49m\u001b[43m(\u001b[49m\u001b[43m)\u001b[49m\u001b[43m)\u001b[49m\n\u001b[1;32m    620\u001b[0m     \u001b[38;5;28;01melse\u001b[39;00m:\n\u001b[1;32m    621\u001b[0m         \u001b[38;5;28;01myield\u001b[39;00m _result_or_cancel(fs\u001b[38;5;241m.\u001b[39mpop(), end_time \u001b[38;5;241m-\u001b[39m time\u001b[38;5;241m.\u001b[39mmonotonic())\n",
      "File \u001b[0;32m~/anaconda3/envs/NLP/lib/python3.11/concurrent/futures/_base.py:317\u001b[0m, in \u001b[0;36m_result_or_cancel\u001b[0;34m(***failed resolving arguments***)\u001b[0m\n\u001b[1;32m    315\u001b[0m \u001b[38;5;28;01mtry\u001b[39;00m:\n\u001b[1;32m    316\u001b[0m     \u001b[38;5;28;01mtry\u001b[39;00m:\n\u001b[0;32m--> 317\u001b[0m         \u001b[38;5;28;01mreturn\u001b[39;00m \u001b[43mfut\u001b[49m\u001b[38;5;241;43m.\u001b[39;49m\u001b[43mresult\u001b[49m\u001b[43m(\u001b[49m\u001b[43mtimeout\u001b[49m\u001b[43m)\u001b[49m\n\u001b[1;32m    318\u001b[0m     \u001b[38;5;28;01mfinally\u001b[39;00m:\n\u001b[1;32m    319\u001b[0m         fut\u001b[38;5;241m.\u001b[39mcancel()\n",
      "File \u001b[0;32m~/anaconda3/envs/NLP/lib/python3.11/concurrent/futures/_base.py:451\u001b[0m, in \u001b[0;36mFuture.result\u001b[0;34m(self, timeout)\u001b[0m\n\u001b[1;32m    448\u001b[0m \u001b[38;5;28;01melif\u001b[39;00m \u001b[38;5;28mself\u001b[39m\u001b[38;5;241m.\u001b[39m_state \u001b[38;5;241m==\u001b[39m FINISHED:\n\u001b[1;32m    449\u001b[0m     \u001b[38;5;28;01mreturn\u001b[39;00m \u001b[38;5;28mself\u001b[39m\u001b[38;5;241m.\u001b[39m__get_result()\n\u001b[0;32m--> 451\u001b[0m \u001b[38;5;28;43mself\u001b[39;49m\u001b[38;5;241;43m.\u001b[39;49m\u001b[43m_condition\u001b[49m\u001b[38;5;241;43m.\u001b[39;49m\u001b[43mwait\u001b[49m\u001b[43m(\u001b[49m\u001b[43mtimeout\u001b[49m\u001b[43m)\u001b[49m\n\u001b[1;32m    453\u001b[0m \u001b[38;5;28;01mif\u001b[39;00m \u001b[38;5;28mself\u001b[39m\u001b[38;5;241m.\u001b[39m_state \u001b[38;5;129;01min\u001b[39;00m [CANCELLED, CANCELLED_AND_NOTIFIED]:\n\u001b[1;32m    454\u001b[0m     \u001b[38;5;28;01mraise\u001b[39;00m CancelledError()\n",
      "File \u001b[0;32m~/anaconda3/envs/NLP/lib/python3.11/threading.py:327\u001b[0m, in \u001b[0;36mCondition.wait\u001b[0;34m(self, timeout)\u001b[0m\n\u001b[1;32m    325\u001b[0m \u001b[38;5;28;01mtry\u001b[39;00m:    \u001b[38;5;66;03m# restore state no matter what (e.g., KeyboardInterrupt)\u001b[39;00m\n\u001b[1;32m    326\u001b[0m     \u001b[38;5;28;01mif\u001b[39;00m timeout \u001b[38;5;129;01mis\u001b[39;00m \u001b[38;5;28;01mNone\u001b[39;00m:\n\u001b[0;32m--> 327\u001b[0m         \u001b[43mwaiter\u001b[49m\u001b[38;5;241;43m.\u001b[39;49m\u001b[43macquire\u001b[49m\u001b[43m(\u001b[49m\u001b[43m)\u001b[49m\n\u001b[1;32m    328\u001b[0m         gotit \u001b[38;5;241m=\u001b[39m \u001b[38;5;28;01mTrue\u001b[39;00m\n\u001b[1;32m    329\u001b[0m     \u001b[38;5;28;01melse\u001b[39;00m:\n",
      "\u001b[0;31mKeyboardInterrupt\u001b[0m: "
     ]
    }
   ],
   "source": [
    "import pandas as pd\n",
    "from transformers import pipeline\n",
    "from tqdm import tqdm\n",
    "import concurrent.futures\n",
    "import os\n",
    "\n",
    "# Define the zero-shot classification pipeline using RoBERTa\n",
    "classifier = pipeline(\"zero-shot-classification\", model=\"roberta-large-mnli\")\n",
    "\n",
    "# Define the cuisine labels for classification\n",
    "cuisine_labels = [\"Italian\", \"Chinese\", \"Mexican\", \"Indian\", \"French\", \"Japanese\", \"American\", \"Thai\", \"Spanish\", \"Greek\"]\n",
    "\n",
    "# Function to classify a single piece of text\n",
    "def classify_text(row):\n",
    "    text = f\"Restaurant Name: {row['restaurant_name']} - Review Title: {row['title_review']} - Review Full: {row['review_full']}\"\n",
    "    result = classifier(text, cuisine_labels)\n",
    "    return result['labels'][0]  # The label with the highest score\n",
    "\n",
    "# Check available memory\n",
    "def get_available_memory():\n",
    "    import psutil\n",
    "    process = psutil.Process(os.getpid())\n",
    "    mem_info = process.memory_info()\n",
    "    return mem_info.rss / (1024 ** 2)  # Return memory usage in MB\n",
    "\n",
    "# Define chunk size\n",
    "chunk_size = 1000  # Adjust as needed\n",
    "\n",
    "# Number of threads to use (adjust as needed)\n",
    "num_threads = 4  # Use a small number of threads to limit CPU usage\n",
    "\n",
    "# Wrap your pandas apply with tqdm for a progress bar\n",
    "tqdm.pandas()\n",
    "\n",
    "# Function to classify text in parallel\n",
    "def parallel_classify_texts(df, num_threads):\n",
    "    with concurrent.futures.ThreadPoolExecutor(max_workers=num_threads) as executor:\n",
    "        results = list(tqdm(executor.map(classify_text, [row for _, row in df.iterrows()]), total=len(df)))\n",
    "    return results\n",
    "\n",
    "# Process the DataFrame in chunks and save each chunk to a CSV\n",
    "def process_and_save_chunks(data, chunk_size, num_threads, output_dir, file_name):\n",
    "    os.makedirs(output_dir, exist_ok=True)  # Create the output directory if it doesn't exist\n",
    "    chunks = [data[i:i + chunk_size] for i in range(0, data.shape[0], chunk_size)]\n",
    "\n",
    "    for i, chunk in enumerate(chunks):\n",
    "        chunk['predicted_cuisine'] = parallel_classify_texts(chunk, num_threads)\n",
    "        output_file_path = os.path.join(output_dir, f'{os.path.splitext(file_name)[0]}_chunk_{i}.csv')\n",
    "        # Save the chunk to a CSV file\n",
    "        chunk.to_csv(output_file_path, index=False)\n",
    "        # Print progress\n",
    "        print(f'Saved chunk {i} of {file_name} to CSV.')\n",
    "\n",
    "# Process all CSV files in a directory\n",
    "def process_all_csvs(input_dir, output_dir):\n",
    "    for file_name in os.listdir(input_dir):\n",
    "        if file_name.endswith('.csv'):\n",
    "            file_path = os.path.join(input_dir, file_name)\n",
    "            print(f'Processing file: {file_path}')\n",
    "            data = pd.read_csv(file_path)\n",
    "            process_and_save_chunks(data, chunk_size, num_threads, output_dir, file_name)\n",
    "\n",
    "# Define input and output directories\n",
    "input_dir = 'processed_chunks_RoBERTa_lde'\n",
    "output_dir = 'processed_chunks_RoBERTa_cuisine'\n",
    "\n",
    "# Process all CSV files in the input directory\n",
    "process_all_csvs(input_dir, output_dir)"
   ]
  },
  {
   "cell_type": "code",
   "execution_count": 14,
   "metadata": {},
   "outputs": [],
   "source": [
    "def read_all_csvs_in_folder(folder_path):\n",
    "    # List to hold the individual DataFrames\n",
    "    df_list = []\n",
    "\n",
    "    # Iterate over all files in the folder\n",
    "    for filename in os.listdir(folder_path):\n",
    "        # Check if the file is a CSV file\n",
    "        if filename.endswith('.csv'):\n",
    "            # Construct the full file path\n",
    "            file_path = os.path.join(folder_path, filename)\n",
    "            # Read the CSV file into a DataFrame\n",
    "            df = pd.read_csv(file_path)\n",
    "            # Append the DataFrame to the list\n",
    "            df_list.append(df)\n",
    "\n",
    "    # Concatenate all DataFrames in the list into a single DataFrame\n",
    "    combined_df = pd.concat(df_list, ignore_index=True)\n",
    "\n",
    "    return combined_df"
   ]
  },
  {
   "cell_type": "code",
   "execution_count": 15,
   "metadata": {},
   "outputs": [],
   "source": [
    "lde_roberta = read_all_csvs_in_folder('processed_chunks_RoBERTa_lde')\n",
    "cuisine_roberta = read_all_csvs_in_folder('processed_chunks_RoBERTa_cuisine')\n",
    "\n",
    "lde_deberta = read_all_csvs_in_folder('processed_chunks_DeBERTa_lde')\n",
    "cuisine_deberta = read_all_csvs_in_folder('processed_chunks_DeBERTa_cuisine')\n",
    "\n",
    "lde_roberta['model_used']='RoBERTa'\n",
    "cuisine_roberta['model_used']='RoBERTa'\n",
    "\n",
    "lde_deberta['model_used']='DeBERTa'\n",
    "cuisine_deberta['model_used']='DeBERTa'\n",
    "\n",
    "pd.concat([lde_roberta, lde_deberta]).to_csv('data_final_no_cuisine.csv', index=False)\n",
    "pd.concat([cuisine_roberta, cuisine_deberta]).to_csv('data_final_cuisine.csv', index=False)"
   ]
  }
 ],
 "metadata": {
  "kernelspec": {
   "display_name": "NLP",
   "language": "python",
   "name": "python3"
  },
  "language_info": {
   "codemirror_mode": {
    "name": "ipython",
    "version": 3
   },
   "file_extension": ".py",
   "mimetype": "text/x-python",
   "name": "python",
   "nbconvert_exporter": "python",
   "pygments_lexer": "ipython3",
   "version": "3.11.9"
  }
 },
 "nbformat": 4,
 "nbformat_minor": 2
}
